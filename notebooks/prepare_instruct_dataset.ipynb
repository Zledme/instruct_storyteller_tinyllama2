{
 "cells": [
  {
   "cell_type": "markdown",
   "id": "3969128d-2e3c-4d20-8d34-18c5bdab4bc5",
   "metadata": {},
   "source": [
    "# imports"
   ]
  },
  {
   "cell_type": "code",
   "execution_count": null,
   "id": "02281434-f8a1-40a4-acda-aff972804ada",
   "metadata": {},
   "outputs": [],
   "source": [
    "import json\n",
    "import os\n",
    "from tqdm import tqdm\n",
    "import numpy as np\n",
    "from concurrent.futures import ProcessPoolExecutor\n",
    "from sentencepiece import SentencePieceProcessor"
   ]
  },
  {
   "cell_type": "markdown",
   "id": "db571644-96f2-4e45-9b38-c525cce17b2b",
   "metadata": {},
   "source": [
    "# paths"
   ]
  },
  {
   "cell_type": "code",
   "execution_count": 4,
   "id": "0eab4d98-452e-46d1-9ca4-2e1a1d96a7b8",
   "metadata": {},
   "outputs": [],
   "source": [
    "data = './data'"
   ]
  },
  {
   "cell_type": "code",
   "execution_count": 5,
   "id": "3acebf20-8fba-4a9b-858b-126632c1f725",
   "metadata": {},
   "outputs": [],
   "source": [
    "tokenizer_path = './tokenizer.model'\n",
    "# this is the same tokenizer as found in llama2"
   ]
  },
  {
   "cell_type": "code",
   "execution_count": 25,
   "id": "ad60a4d7-1a54-4a72-b0cd-025faaafca47",
   "metadata": {},
   "outputs": [],
   "source": [
    "out_data = './instruct_data_same_length/'\n",
    "os.makedirs(out_data, exist_ok=True)"
   ]
  },
  {
   "cell_type": "markdown",
   "id": "a92b9e6e-ac2b-42b3-a7b3-92fcd2cad762",
   "metadata": {},
   "source": [
    "# preprocessing functions"
   ]
  },
  {
   "cell_type": "code",
   "execution_count": 7,
   "id": "dcf7e59e-0e50-4988-9ac2-61564298fd78",
   "metadata": {},
   "outputs": [],
   "source": [
    "def replace_words(\n",
    "    prompt, \n",
    "    words_list\n",
    "):\n",
    "    for words_to_remove, replacement in words_list:\n",
    "        prompt = prompt.replace(words_to_remove, replacement)\n",
    "    return prompt\n",
    "        "
   ]
  },
  {
   "cell_type": "code",
   "execution_count": 8,
   "id": "657b224b-7e6c-4034-a6c9-d4cbd7400ac5",
   "metadata": {},
   "outputs": [],
   "source": [
    "def preprocess_prompt(prompt, suffix=' Possible story:'):\n",
    "    words_list = [\n",
    "    (\"Write a short story (3-5 paragraphs) which only uses very simple words that a 3 year old child would understand.\", \"Write a story.\"),\n",
    "    (\" Remember to only use simple words!\", \"\"),\n",
    "    (\"\\n\\nPossible story:\", \"\"),\n",
    "    (\"try to at some point use\", \"try to use\")\n",
    "    ]\n",
    "    prompt = replace_words(prompt, words_list)\n",
    "    return prompt + suffix"
   ]
  },
  {
   "cell_type": "markdown",
   "id": "131bea8d-794f-44c1-b03a-3697b7195889",
   "metadata": {},
   "source": [
    "# tokenize"
   ]
  },
  {
   "cell_type": "code",
   "execution_count": 11,
   "id": "b33e1f27-c067-49ca-82bb-222cd92a676d",
   "metadata": {},
   "outputs": [],
   "source": [
    "tokenizer = SentencePieceProcessor(model_file=tokenizer_path)"
   ]
  },
  {
   "cell_type": "code",
   "execution_count": 12,
   "id": "806b21ab-4543-42d5-8b8f-01222e7b0b9f",
   "metadata": {},
   "outputs": [
    {
     "name": "stdout",
     "output_type": "stream",
     "text": [
      "32000\n",
      "1 2\n"
     ]
    }
   ],
   "source": [
    "print(tokenizer.vocab_size())\n",
    "print(tokenizer.bos_id(), tokenizer.eos_id())"
   ]
  },
  {
   "cell_type": "code",
   "execution_count": 13,
   "id": "1f7397f3-3807-4fc9-864e-a61cc7534b56",
   "metadata": {},
   "outputs": [
    {
     "data": {
      "text/plain": [
       "array([65436, 65436, 65436, 65436, 65436, 65436, 65436, 65436, 65436,\n",
       "       65436, 65436, 65436, 65436, 65436, 65436], dtype=uint16)"
      ]
     },
     "execution_count": 13,
     "metadata": {},
     "output_type": "execute_result"
    }
   ],
   "source": [
    "np.array([-100]*15, dtype=np.uint16)"
   ]
  },
  {
   "cell_type": "code",
   "execution_count": 51,
   "id": "2f3bcaec-59dc-4131-8bcd-68cd302cb0d8",
   "metadata": {},
   "outputs": [],
   "source": [
    "def tokenize_chunk(chunk_path, out_folder, max_seq_len=350, pad_token=-100):\n",
    "    \n",
    "    print(chunk_path)\n",
    "    with open(chunk_path, 'r') as f:\n",
    "        chunk = json.load(f)\n",
    "    all_tokens = []\n",
    "    all_labels = []\n",
    "    for sample in tqdm(chunk):\n",
    "        story = sample['story'].strip()\n",
    "        prompt = preprocess_prompt(sample['instruction']['prompt:'].strip())\n",
    "        tokenized_prompt = tokenizer.encode(prompt)\n",
    "        \n",
    "        prompt_and_story = tokenized_prompt + [tokenizer.bos_id()] + tokenizer.encode(story) + [tokenizer.eos_id()]\n",
    "        label = [pad_token]*len(tokenized_prompt) + [tokenizer.bos_id()] + tokenizer.encode(story) + [tokenizer.eos_id()]\n",
    "\n",
    "        if len(prompt_and_story) <= max_seq_len:\n",
    "            prompt_and_story += [pad_token] * (max_seq_len - len(prompt_and_story))\n",
    "            label += [pad_token] * (max_seq_len - len(label))\n",
    "            assert len(prompt_and_story) == len(label) == max_seq_len\n",
    "            all_tokens.extend(prompt_and_story)\n",
    "            all_labels.extend(label)\n",
    "    #print(len(all_tokens))\n",
    "    all_tokens = np.array(all_tokens, dtype=np.uint16)\n",
    "    all_labels = np.array(all_labels, dtype=np.uint16)\n",
    "   # print(all_tokens.shape)\n",
    "    \n",
    "    all_tokens_filename = chunk_path.split('/')[-1].replace('.json', '.bin')\n",
    "    with open(os.path.join(out_folder, all_tokens_filename), \"wb\") as f:\n",
    "        f.write(all_tokens.tobytes())\n",
    "        print(os.path.join(out_folder, all_tokens_filename))\n",
    "    \n",
    "    all_labels_filename = all_tokens_filename.replace('data', 'labels')\n",
    "    with open(os.path.join(out_folder, all_labels_filename), \"wb\") as f:\n",
    "        f.write(all_labels.tobytes())\n",
    "        \n",
    "    \n",
    "def tokenize_all_chunks(data, out_folder, max_workers=5):\n",
    "    tokenize_chunk_args = [(os.path.join(data, fn), out_folder) for fn in os.listdir(data) if fn.endswith('.json')]\n",
    "    with ProcessPoolExecutor(max_workers=max_workers) as executor:\n",
    "        executor.map(tokenize_chunk, *zip(*tokenize_chunk_args))\n",
    "        \n",
    "        "
   ]
  },
  {
   "cell_type": "code",
   "execution_count": 52,
   "id": "2a15a078-c8e7-4fa2-9dca-48e99461e819",
   "metadata": {},
   "outputs": [
    {
     "name": "stdout",
     "output_type": "stream",
     "text": [
      "./data/data42.json./data/data17.json./data/data30.json./data/data11.json./data/data14.json\n",
      "\n",
      "\n",
      "\n",
      "\n"
     ]
    },
    {
     "name": "stderr",
     "output_type": "stream",
     "text": [
      "100%|████████████████████████████████████████████████████████████████████████| 100000/100000 [01:36<00:00, 1032.52it/s]\n",
      "100%|████████████████████████████████████████████████████████████████████████| 100000/100000 [01:37<00:00, 1029.72it/s]\n",
      " 93%|███████████████████████████████████████████████████████████████████▊     | 92813/100000 [01:39<00:07, 1006.25it/s]"
     ]
    },
    {
     "name": "stdout",
     "output_type": "stream",
     "text": [
      "./instruct_data_same_length/data11.bin\n"
     ]
    },
    {
     "name": "stderr",
     "output_type": "stream",
     "text": [
      " 93%|████████████████████████████████████████████████████████████████████▊     | 93019/100000 [01:40<00:07, 978.35it/s]"
     ]
    },
    {
     "name": "stdout",
     "output_type": "stream",
     "text": [
      "./data/data26.json\n"
     ]
    },
    {
     "name": "stderr",
     "output_type": "stream",
     "text": [
      " 93%|█████████████████████████████████████████████████████████████████████     | 93318/100000 [01:40<00:06, 963.88it/s]"
     ]
    },
    {
     "name": "stdout",
     "output_type": "stream",
     "text": [
      "./instruct_data_same_length/data14.bin\n"
     ]
    },
    {
     "name": "stderr",
     "output_type": "stream",
     "text": [
      " 95%|██████████████████████████████████████████████████████████████████████▎   | 95086/100000 [01:40<00:05, 895.01it/s]"
     ]
    },
    {
     "name": "stdout",
     "output_type": "stream",
     "text": [
      "./data/data49.json\n"
     ]
    },
    {
     "name": "stderr",
     "output_type": "stream",
     "text": [
      "100%|█████████████████████████████████████████████████████████████████████████| 100000/100000 [01:42<00:00, 978.54it/s]\n",
      "  4%|███                                                                        | 4139/100000 [00:04<01:40, 955.22it/s]"
     ]
    },
    {
     "name": "stdout",
     "output_type": "stream",
     "text": [
      "./instruct_data_same_length/data42.bin\n"
     ]
    },
    {
     "name": "stderr",
     "output_type": "stream",
     "text": [
      " 99%|████████████████████████████████████████████████████████████████████████▉ | 98540/100000 [01:45<00:01, 984.16it/s]"
     ]
    },
    {
     "name": "stdout",
     "output_type": "stream",
     "text": [
      "./data/data39.json\n"
     ]
    },
    {
     "name": "stderr",
     "output_type": "stream",
     "text": [
      "100%|█████████████████████████████████████████████████████████████████████████| 100000/100000 [01:46<00:00, 943.06it/s]\n",
      "100%|█████████████████████████████████████████████████████████████████████████| 100000/100000 [01:47<00:00, 932.15it/s]\n",
      " 10%|███████▊                                                                    | 6992/67871 [00:07<01:16, 799.68it/s]"
     ]
    },
    {
     "name": "stdout",
     "output_type": "stream",
     "text": [
      "./instruct_data_same_length/data17.bin\n"
     ]
    },
    {
     "name": "stderr",
     "output_type": "stream",
     "text": [
      " 11%|████████                                                                    | 7171/67871 [00:07<01:11, 844.35it/s]"
     ]
    },
    {
     "name": "stdout",
     "output_type": "stream",
     "text": [
      "./data/data31.json\n"
     ]
    },
    {
     "name": "stderr",
     "output_type": "stream",
     "text": [
      "  9%|██████▊                                                                    | 9086/100000 [00:09<01:54, 794.82it/s]"
     ]
    },
    {
     "name": "stdout",
     "output_type": "stream",
     "text": [
      "./instruct_data_same_length/data30.bin\n"
     ]
    },
    {
     "name": "stderr",
     "output_type": "stream",
     "text": [
      "  9%|██████▉                                                                    | 9253/100000 [00:09<01:51, 815.53it/s]"
     ]
    },
    {
     "name": "stdout",
     "output_type": "stream",
     "text": [
      "./data/data24.json\n"
     ]
    },
    {
     "name": "stderr",
     "output_type": "stream",
     "text": [
      "100%|███████████████████████████████████████████████████████████████████████████| 67871/67871 [01:08<00:00, 990.08it/s]\n",
      " 73%|█████████████████████████████████████████████████████▉                    | 72832/100000 [01:10<00:28, 964.94it/s]"
     ]
    },
    {
     "name": "stdout",
     "output_type": "stream",
     "text": [
      "./instruct_data_same_length/data49.bin\n"
     ]
    },
    {
     "name": "stderr",
     "output_type": "stream",
     "text": [
      " 57%|██████████████████████████████████████████▎                               | 57263/100000 [01:00<00:44, 954.76it/s]"
     ]
    },
    {
     "name": "stdout",
     "output_type": "stream",
     "text": [
      "./data/data46.json\n"
     ]
    },
    {
     "name": "stderr",
     "output_type": "stream",
     "text": [
      "100%|████████████████████████████████████████████████████████████████████████| 100000/100000 [01:36<00:00, 1032.53it/s]\n",
      " 98%|███████████████████████████████████████████████████████████████████████▍ | 97790/100000 [01:34<00:02, 1082.71it/s]"
     ]
    },
    {
     "name": "stdout",
     "output_type": "stream",
     "text": [
      "./instruct_data_same_length/data26.bin\n"
     ]
    },
    {
     "name": "stderr",
     "output_type": "stream",
     "text": [
      " 98%|███████████████████████████████████████████████████████████████████████▌ | 98005/100000 [01:34<00:01, 1028.15it/s]"
     ]
    },
    {
     "name": "stdout",
     "output_type": "stream",
     "text": [
      "./data/data18.json\n"
     ]
    },
    {
     "name": "stderr",
     "output_type": "stream",
     "text": [
      "100%|████████████████████████████████████████████████████████████████████████| 100000/100000 [01:36<00:00, 1036.44it/s]\n",
      " 90%|██████████████████████████████████████████████████████████████████▎       | 89575/100000 [01:34<00:10, 948.94it/s]"
     ]
    },
    {
     "name": "stdout",
     "output_type": "stream",
     "text": [
      "./instruct_data_same_length/data39.bin\n"
     ]
    },
    {
     "name": "stderr",
     "output_type": "stream",
     "text": [
      " 90%|██████████████████████████████████████████████████████████████████▍       | 89770/100000 [01:34<00:10, 948.63it/s]"
     ]
    },
    {
     "name": "stdout",
     "output_type": "stream",
     "text": [
      "./data/data29.json\n"
     ]
    },
    {
     "name": "stderr",
     "output_type": "stream",
     "text": [
      "100%|█████████████████████████████████████████████████████████████████████████| 100000/100000 [01:44<00:00, 960.04it/s]\n",
      "100%|█████████████████████████████████████████████████████████████████████████| 100000/100000 [01:45<00:00, 949.50it/s]\n",
      " 42%|██████████████████████████████▊                                          | 42157/100000 [00:43<00:57, 1013.34it/s]"
     ]
    },
    {
     "name": "stdout",
     "output_type": "stream",
     "text": [
      "./instruct_data_same_length/data31.bin\n"
     ]
    },
    {
     "name": "stderr",
     "output_type": "stream",
     "text": [
      " 42%|██████████████████████████████▉                                          | 42361/100000 [00:43<00:57, 1009.97it/s]"
     ]
    },
    {
     "name": "stdout",
     "output_type": "stream",
     "text": [
      "./data/data45.json\n"
     ]
    },
    {
     "name": "stderr",
     "output_type": "stream",
     "text": [
      "  1%|▋                                                                           | 875/100000 [00:01<02:02, 806.45it/s]"
     ]
    },
    {
     "name": "stdout",
     "output_type": "stream",
     "text": [
      "./instruct_data_same_length/data24.bin\n"
     ]
    },
    {
     "name": "stderr",
     "output_type": "stream",
     "text": [
      "  1%|▊                                                                          | 1061/100000 [00:01<01:53, 869.34it/s]"
     ]
    },
    {
     "name": "stdout",
     "output_type": "stream",
     "text": [
      "./data/data07.json\n"
     ]
    },
    {
     "name": "stderr",
     "output_type": "stream",
     "text": [
      "100%|█████████████████████████████████████████████████████████████████████████| 100000/100000 [01:45<00:00, 944.68it/s]\n",
      " 59%|███████████████████████████████████████████▍                              | 58765/100000 [01:01<00:42, 977.48it/s]"
     ]
    },
    {
     "name": "stdout",
     "output_type": "stream",
     "text": [
      "./instruct_data_same_length/data46.bin\n"
     ]
    },
    {
     "name": "stderr",
     "output_type": "stream",
     "text": [
      " 61%|████████████████████████████████████████████▊                             | 60596/100000 [01:03<00:46, 839.83it/s]"
     ]
    },
    {
     "name": "stdout",
     "output_type": "stream",
     "text": [
      "./data/data23.json\n"
     ]
    },
    {
     "name": "stderr",
     "output_type": "stream",
     "text": [
      "100%|████████████████████████████████████████████████████████████████████████| 100000/100000 [01:36<00:00, 1037.10it/s]\n",
      " 96%|█████████████████████████████████████████████████████████████████████▋   | 95533/100000 [01:34<00:03, 1132.03it/s]"
     ]
    },
    {
     "name": "stdout",
     "output_type": "stream",
     "text": [
      "./instruct_data_same_length/data18.bin\n"
     ]
    },
    {
     "name": "stderr",
     "output_type": "stream",
     "text": [
      " 77%|█████████████████████████████████████████████████████████▎                | 77429/100000 [01:20<00:28, 798.19it/s]"
     ]
    },
    {
     "name": "stdout",
     "output_type": "stream",
     "text": [
      "./data/data02.json\n"
     ]
    },
    {
     "name": "stderr",
     "output_type": "stream",
     "text": [
      "100%|████████████████████████████████████████████████████████████████████████| 100000/100000 [01:38<00:00, 1015.31it/s]\n",
      " 86%|██████████████████████████████████████████████████████████████▍          | 85529/100000 [01:29<00:13, 1046.27it/s]"
     ]
    },
    {
     "name": "stdout",
     "output_type": "stream",
     "text": [
      "./instruct_data_same_length/data29.bin\n"
     ]
    },
    {
     "name": "stderr",
     "output_type": "stream",
     "text": [
      " 86%|██████████████████████████████████████████████████████████████▌          | 85739/100000 [01:30<00:14, 1000.96it/s]"
     ]
    },
    {
     "name": "stdout",
     "output_type": "stream",
     "text": [
      "./data/data08.json\n"
     ]
    },
    {
     "name": "stderr",
     "output_type": "stream",
     "text": [
      "100%|█████████████████████████████████████████████████████████████████████████| 100000/100000 [01:45<00:00, 951.79it/s]\n",
      "100%|█████████████████████████████████████████████████████████████████████████| 100000/100000 [01:43<00:00, 963.12it/s]\n",
      " 40%|█████████████████████████████▍                                            | 39835/100000 [00:42<01:13, 822.88it/s]"
     ]
    },
    {
     "name": "stdout",
     "output_type": "stream",
     "text": [
      "./instruct_data_same_length/data45.bin\n"
     ]
    },
    {
     "name": "stderr",
     "output_type": "stream",
     "text": [
      " 40%|█████████████████████████████▌                                            | 40001/100000 [00:43<01:13, 811.87it/s]"
     ]
    },
    {
     "name": "stdout",
     "output_type": "stream",
     "text": [
      "./data/data19.json\n"
     ]
    },
    {
     "name": "stderr",
     "output_type": "stream",
     "text": [
      " 41%|█████████████████████████████▉                                           | 41069/100000 [00:44<00:55, 1067.73it/s]"
     ]
    },
    {
     "name": "stdout",
     "output_type": "stream",
     "text": [
      "./instruct_data_same_length/data07.bin\n"
     ]
    },
    {
     "name": "stderr",
     "output_type": "stream",
     "text": [
      " 21%|███████████████▎                                                         | 21025/100000 [00:18<01:06, 1191.80it/s]"
     ]
    },
    {
     "name": "stdout",
     "output_type": "stream",
     "text": [
      "./data/data32.json\n"
     ]
    },
    {
     "name": "stderr",
     "output_type": "stream",
     "text": [
      "100%|█████████████████████████████████████████████████████████████████████████| 100000/100000 [01:42<00:00, 977.85it/s]\n",
      " 58%|██████████████████████████████████████████▌                               | 57591/100000 [00:59<00:51, 825.02it/s]"
     ]
    },
    {
     "name": "stdout",
     "output_type": "stream",
     "text": [
      "./instruct_data_same_length/data23.bin\n"
     ]
    },
    {
     "name": "stderr",
     "output_type": "stream",
     "text": [
      " 58%|██████████████████████████████████████████▋                               | 57766/100000 [00:59<00:49, 847.73it/s]"
     ]
    },
    {
     "name": "stdout",
     "output_type": "stream",
     "text": [
      "./data/data27.json\n"
     ]
    },
    {
     "name": "stderr",
     "output_type": "stream",
     "text": [
      "100%|████████████████████████████████████████████████████████████████████████| 100000/100000 [01:33<00:00, 1069.74it/s]\n",
      "100%|████████████████████████████████████████████████████████████████████████| 100000/100000 [01:29<00:00, 1122.75it/s]\n",
      " 71%|███████████████████████████████████████████████████▋                     | 70855/100000 [01:10<00:26, 1118.97it/s]"
     ]
    },
    {
     "name": "stdout",
     "output_type": "stream",
     "text": [
      "./instruct_data_same_length/data02.bin\n"
     ]
    },
    {
     "name": "stderr",
     "output_type": "stream",
     "text": [
      "  8%|█████▋                                                                    | 7672/100000 [00:08<01:31, 1006.48it/s]"
     ]
    },
    {
     "name": "stdout",
     "output_type": "stream",
     "text": [
      "./data/data01.json\n"
     ]
    },
    {
     "name": "stderr",
     "output_type": "stream",
     "text": [
      " 70%|████████████████████████████████████████████████████                      | 70423/100000 [01:12<00:33, 876.05it/s]"
     ]
    },
    {
     "name": "stdout",
     "output_type": "stream",
     "text": [
      "./instruct_data_same_length/data08.bin\n"
     ]
    },
    {
     "name": "stderr",
     "output_type": "stream",
     "text": [
      " 10%|███████▍                                                                  | 10115/100000 [00:11<01:46, 844.28it/s]"
     ]
    },
    {
     "name": "stdout",
     "output_type": "stream",
     "text": [
      "./data/data48.json\n"
     ]
    },
    {
     "name": "stderr",
     "output_type": "stream",
     "text": [
      "100%|█████████████████████████████████████████████████████████████████████████| 100000/100000 [01:41<00:00, 984.90it/s]\n",
      " 32%|███████████████████████▍                                                 | 32102/100000 [00:29<01:02, 1091.82it/s]"
     ]
    },
    {
     "name": "stdout",
     "output_type": "stream",
     "text": [
      "./instruct_data_same_length/data19.bin\n"
     ]
    },
    {
     "name": "stderr",
     "output_type": "stream",
     "text": [
      " 33%|████████████████████████▎                                                | 33337/100000 [00:32<01:02, 1069.09it/s]"
     ]
    },
    {
     "name": "stdout",
     "output_type": "stream",
     "text": [
      "./data/data21.json\n"
     ]
    },
    {
     "name": "stderr",
     "output_type": "stream",
     "text": [
      "100%|█████████████████████████████████████████████████████████████████████████| 100000/100000 [01:43<00:00, 963.37it/s]\n",
      " 47%|██████████████████████████████████▋                                      | 47472/100000 [00:45<00:50, 1032.08it/s]"
     ]
    },
    {
     "name": "stdout",
     "output_type": "stream",
     "text": [
      "./instruct_data_same_length/data32.bin"
     ]
    },
    {
     "name": "stderr",
     "output_type": "stream",
     "text": [
      "  2%|█▏                                                                         | 1544/100000 [00:01<02:01, 813.34it/s]"
     ]
    },
    {
     "name": "stdout",
     "output_type": "stream",
     "text": [
      "\n"
     ]
    },
    {
     "name": "stderr",
     "output_type": "stream",
     "text": [
      " 37%|███████████████████████████                                              | 37137/100000 [00:35<01:00, 1039.34it/s]"
     ]
    },
    {
     "name": "stdout",
     "output_type": "stream",
     "text": [
      "./data/data10.json\n"
     ]
    },
    {
     "name": "stderr",
     "output_type": "stream",
     "text": [
      "100%|████████████████████████████████████████████████████████████████████████| 100000/100000 [01:38<00:00, 1013.47it/s]\n",
      " 53%|██████████████████████████████████████▉                                  | 53339/100000 [00:53<00:44, 1046.72it/s]"
     ]
    },
    {
     "name": "stdout",
     "output_type": "stream",
     "text": [
      "./instruct_data_same_length/data27.bin\n"
     ]
    },
    {
     "name": "stderr",
     "output_type": "stream",
     "text": [
      " 95%|█████████████████████████████████████████████████████████████████████▍   | 95076/100000 [01:28<00:04, 1015.50it/s]"
     ]
    },
    {
     "name": "stdout",
     "output_type": "stream",
     "text": [
      "./data/data06.json\n"
     ]
    },
    {
     "name": "stderr",
     "output_type": "stream",
     "text": [
      "100%|████████████████████████████████████████████████████████████████████████| 100000/100000 [01:34<00:00, 1056.66it/s]\n",
      "100%|████████████████████████████████████████████████████████████████████████| 100000/100000 [01:33<00:00, 1071.96it/s]\n",
      " 59%|███████████████████████████████████████████▏                             | 59205/100000 [00:59<00:38, 1063.74it/s]"
     ]
    },
    {
     "name": "stdout",
     "output_type": "stream",
     "text": [
      "./instruct_data_same_length/data01.bin\n"
     ]
    },
    {
     "name": "stderr",
     "output_type": "stream",
     "text": [
      " 60%|███████████████████████████████████████████▉                             | 60182/100000 [01:00<00:37, 1063.70it/s]"
     ]
    },
    {
     "name": "stdout",
     "output_type": "stream",
     "text": [
      "./data/data12.json\n"
     ]
    },
    {
     "name": "stderr",
     "output_type": "stream",
     "text": [
      " 61%|████████████████████████████████████████████▍                            | 60827/100000 [01:01<00:36, 1062.15it/s]"
     ]
    },
    {
     "name": "stdout",
     "output_type": "stream",
     "text": [
      "./instruct_data_same_length/data48.bin\n"
     ]
    },
    {
     "name": "stderr",
     "output_type": "stream",
     "text": [
      " 65%|████████████████████████████████████████████████▏                         | 65139/100000 [01:05<00:35, 988.73it/s]"
     ]
    },
    {
     "name": "stdout",
     "output_type": "stream",
     "text": [
      "./data/data34.json\n"
     ]
    },
    {
     "name": "stderr",
     "output_type": "stream",
     "text": [
      "100%|█████████████████████████████████████████████████████████████████████████| 100000/100000 [01:40<00:00, 995.21it/s]\n",
      " 42%|███████████████████████████████▏                                          | 42144/100000 [00:44<01:11, 806.22it/s]"
     ]
    },
    {
     "name": "stdout",
     "output_type": "stream",
     "text": [
      "./instruct_data_same_length/data21.bin\n"
     ]
    },
    {
     "name": "stderr",
     "output_type": "stream",
     "text": [
      " 40%|█████████████████████████████▏                                           | 39898/100000 [00:38<00:56, 1066.91it/s]"
     ]
    },
    {
     "name": "stdout",
     "output_type": "stream",
     "text": [
      "./data/data04.json\n"
     ]
    },
    {
     "name": "stderr",
     "output_type": "stream",
     "text": [
      "100%|█████████████████████████████████████████████████████████████████████████| 100000/100000 [01:43<00:00, 970.54it/s]\n",
      " 46%|██████████████████████████████████                                        | 46032/100000 [00:43<01:01, 876.29it/s]"
     ]
    },
    {
     "name": "stdout",
     "output_type": "stream",
     "text": [
      "./instruct_data_same_length/data10.bin\n"
     ]
    },
    {
     "name": "stderr",
     "output_type": "stream",
     "text": [
      " 47%|██████████████████████████████████                                       | 46684/100000 [00:44<00:51, 1038.33it/s]"
     ]
    },
    {
     "name": "stdout",
     "output_type": "stream",
     "text": [
      "./data/data36.json\n"
     ]
    },
    {
     "name": "stderr",
     "output_type": "stream",
     "text": [
      "100%|████████████████████████████████████████████████████████████████████████| 100000/100000 [01:33<00:00, 1072.32it/s]\n",
      "100%|████████████████████████████████████████████████████████████████████████| 100000/100000 [01:33<00:00, 1064.11it/s]\n",
      " 98%|███████████████████████████████████████████████████████████████████████▊ | 98308/100000 [01:42<00:01, 1019.93it/s]"
     ]
    },
    {
     "name": "stdout",
     "output_type": "stream",
     "text": [
      "./instruct_data_same_length/data12.bin\n"
     ]
    },
    {
     "name": "stderr",
     "output_type": "stream",
     "text": [
      " 61%|████████████████████████████████████████████▌                            | 61068/100000 [00:56<00:36, 1063.98it/s]"
     ]
    },
    {
     "name": "stdout",
     "output_type": "stream",
     "text": [
      "./data/data37.json\n"
     ]
    },
    {
     "name": "stderr",
     "output_type": "stream",
     "text": [
      "100%|█████████████████████████████████████████████████████████████████████████▉| 99949/100000 [01:44<00:00, 880.83it/s]"
     ]
    },
    {
     "name": "stdout",
     "output_type": "stream",
     "text": [
      "./instruct_data_same_length/data34.bin\n"
     ]
    },
    {
     "name": "stderr",
     "output_type": "stream",
     "text": [
      "100%|█████████████████████████████████████████████████████████████████████████| 100000/100000 [01:44<00:00, 958.53it/s]\n",
      " 63%|██████████████████████████████████████████████▌                           | 62855/100000 [00:58<00:37, 988.92it/s]"
     ]
    },
    {
     "name": "stdout",
     "output_type": "stream",
     "text": [
      "./data/data00.json\n"
     ]
    },
    {
     "name": "stderr",
     "output_type": "stream",
     "text": [
      " 55%|████████████████████████████████████████▌                                 | 54898/100000 [00:55<00:53, 840.08it/s]"
     ]
    },
    {
     "name": "stdout",
     "output_type": "stream",
     "text": [
      "./instruct_data_same_length/data06.bin\n"
     ]
    },
    {
     "name": "stderr",
     "output_type": "stream",
     "text": [
      " 66%|████████████████████████████████████████████████▊                         | 65905/100000 [01:01<00:35, 967.93it/s]"
     ]
    },
    {
     "name": "stdout",
     "output_type": "stream",
     "text": [
      "./data/data05.json\n"
     ]
    },
    {
     "name": "stderr",
     "output_type": "stream",
     "text": [
      "100%|████████████████████████████████████████████████████████████████████████| 100000/100000 [01:32<00:00, 1076.84it/s]\n",
      " 32%|███████████████████████▎                                                 | 31865/100000 [00:32<01:08, 1000.57it/s]"
     ]
    },
    {
     "name": "stdout",
     "output_type": "stream",
     "text": [
      "./instruct_data_same_length/data04.bin\n"
     ]
    },
    {
     "name": "stderr",
     "output_type": "stream",
     "text": [
      " 41%|█████████████████████████████▊                                           | 40758/100000 [00:37<00:53, 1101.88it/s]"
     ]
    },
    {
     "name": "stdout",
     "output_type": "stream",
     "text": [
      "./data/data40.json\n"
     ]
    },
    {
     "name": "stderr",
     "output_type": "stream",
     "text": [
      "100%|█████████████████████████████████████████████████████████████████████████| 100000/100000 [01:43<00:00, 965.50it/s]\n",
      " 59%|███████████████████████████████████████████                              | 58965/100000 [00:54<00:34, 1174.22it/s]"
     ]
    },
    {
     "name": "stdout",
     "output_type": "stream",
     "text": [
      "./instruct_data_same_length/data36.bin\n"
     ]
    },
    {
     "name": "stderr",
     "output_type": "stream",
     "text": [
      " 49%|████████████████████████████████████▏                                     | 48969/100000 [00:49<00:51, 998.49it/s]"
     ]
    },
    {
     "name": "stdout",
     "output_type": "stream",
     "text": [
      "./data/data35.json\n"
     ]
    },
    {
     "name": "stderr",
     "output_type": "stream",
     "text": [
      "100%|████████████████████████████████████████████████████████████████████████| 100000/100000 [01:32<00:00, 1082.30it/s]\n",
      "100%|████████████████████████████████████████████████████████████████████████| 100000/100000 [01:31<00:00, 1093.99it/s]\n",
      " 89%|██████████████████████████████████████████████████████████████████▏       | 89461/100000 [01:30<00:10, 966.95it/s]"
     ]
    },
    {
     "name": "stdout",
     "output_type": "stream",
     "text": [
      "./instruct_data_same_length/data37.bin\n"
     ]
    },
    {
     "name": "stderr",
     "output_type": "stream",
     "text": [
      " 90%|██████████████████████████████████████████████████████████████████▎       | 89655/100000 [01:30<00:10, 959.31it/s]"
     ]
    },
    {
     "name": "stdout",
     "output_type": "stream",
     "text": [
      "./data/data28.json\n"
     ]
    },
    {
     "name": "stderr",
     "output_type": "stream",
     "text": [
      " 58%|██████████████████████████████████████████▉                               | 58071/100000 [00:56<00:46, 897.10it/s]"
     ]
    },
    {
     "name": "stdout",
     "output_type": "stream",
     "text": [
      "./instruct_data_same_length/data00.bin\n"
     ]
    },
    {
     "name": "stderr",
     "output_type": "stream",
     "text": [
      " 58%|███████████████████████████████████████████                               | 58271/100000 [00:57<00:44, 947.64it/s]"
     ]
    },
    {
     "name": "stdout",
     "output_type": "stream",
     "text": [
      "./data/data15.json\n"
     ]
    },
    {
     "name": "stderr",
     "output_type": "stream",
     "text": [
      "100%|█████████████████████████████████████████████████████████████████████████| 100000/100000 [01:41<00:00, 989.91it/s]\n",
      " 12%|█████████                                                                 | 12260/100000 [00:12<01:36, 911.46it/s]"
     ]
    },
    {
     "name": "stdout",
     "output_type": "stream",
     "text": [
      "./instruct_data_same_length/data05.bin\n"
     ]
    },
    {
     "name": "stderr",
     "output_type": "stream",
     "text": [
      " 54%|███████████████████████████████████████▋                                  | 53662/100000 [00:53<00:54, 846.99it/s]"
     ]
    },
    {
     "name": "stdout",
     "output_type": "stream",
     "text": [
      "./data/data13.json\n"
     ]
    },
    {
     "name": "stderr",
     "output_type": "stream",
     "text": [
      "100%|█████████████████████████████████████████████████████████████████████████| 100000/100000 [01:40<00:00, 995.43it/s]\n",
      " 87%|████████████████████████████████████████████████████████████████▋         | 87405/100000 [01:27<00:14, 870.14it/s]"
     ]
    },
    {
     "name": "stdout",
     "output_type": "stream",
     "text": [
      "./instruct_data_same_length/data40.bin\n"
     ]
    },
    {
     "name": "stderr",
     "output_type": "stream",
     "text": [
      " 49%|████████████████████████████████████                                      | 48653/100000 [00:46<00:56, 912.57it/s]"
     ]
    },
    {
     "name": "stdout",
     "output_type": "stream",
     "text": [
      "./data/data03.json\n"
     ]
    },
    {
     "name": "stderr",
     "output_type": "stream",
     "text": [
      "100%|████████████████████████████████████████████████████████████████████████| 100000/100000 [01:39<00:00, 1001.73it/s]\n",
      " 13%|█████████▍                                                                | 12805/100000 [00:13<01:33, 932.95it/s]"
     ]
    },
    {
     "name": "stdout",
     "output_type": "stream",
     "text": [
      "./instruct_data_same_length/data35.bin\n"
     ]
    },
    {
     "name": "stderr",
     "output_type": "stream",
     "text": [
      " 49%|███████████████████████████████████▉                                      | 48552/100000 [00:48<01:02, 823.83it/s]"
     ]
    },
    {
     "name": "stdout",
     "output_type": "stream",
     "text": [
      "./data/data25.json\n"
     ]
    },
    {
     "name": "stderr",
     "output_type": "stream",
     "text": [
      "100%|████████████████████████████████████████████████████████████████████████| 100000/100000 [01:35<00:00, 1044.51it/s]\n",
      " 88%|████████████████████████████████████████████████████████████████▉         | 87722/100000 [01:25<00:12, 998.49it/s]"
     ]
    },
    {
     "name": "stdout",
     "output_type": "stream",
     "text": [
      "./instruct_data_same_length/data15.bin\n"
     ]
    },
    {
     "name": "stderr",
     "output_type": "stream",
     "text": [
      " 88%|█████████████████████████████████████████████████████████████████         | 87926/100000 [01:25<00:12, 992.81it/s]"
     ]
    },
    {
     "name": "stdout",
     "output_type": "stream",
     "text": [
      "./data/data38.json\n"
     ]
    },
    {
     "name": "stderr",
     "output_type": "stream",
     "text": [
      "100%|████████████████████████████████████████████████████████████████████████| 100000/100000 [01:39<00:00, 1004.16it/s]\n",
      " 54%|███████████████████████████████████████▌                                  | 53519/100000 [00:54<00:48, 955.75it/s]"
     ]
    },
    {
     "name": "stdout",
     "output_type": "stream",
     "text": [
      "./instruct_data_same_length/data28.bin\n"
     ]
    },
    {
     "name": "stderr",
     "output_type": "stream",
     "text": [
      " 54%|███████████████████████████████████████▋                                  | 53716/100000 [00:54<00:48, 958.09it/s]"
     ]
    },
    {
     "name": "stdout",
     "output_type": "stream",
     "text": [
      "./data/data33.json\n"
     ]
    },
    {
     "name": "stderr",
     "output_type": "stream",
     "text": [
      "100%|████████████████████████████████████████████████████████████████████████| 100000/100000 [01:36<00:00, 1031.75it/s]\n",
      " 13%|█████████▌                                                               | 13026/100000 [00:12<01:24, 1026.79it/s]"
     ]
    },
    {
     "name": "stdout",
     "output_type": "stream",
     "text": [
      "./instruct_data_same_length/data13.bin\n"
     ]
    },
    {
     "name": "stderr",
     "output_type": "stream",
     "text": [
      " 52%|█████████████████████████████████████▋                                   | 51681/100000 [00:50<00:45, 1056.61it/s]"
     ]
    },
    {
     "name": "stdout",
     "output_type": "stream",
     "text": [
      "./data/data22.json\n"
     ]
    },
    {
     "name": "stderr",
     "output_type": "stream",
     "text": [
      "100%|████████████████████████████████████████████████████████████████████████| 100000/100000 [01:39<00:00, 1006.16it/s]\n",
      " 51%|█████████████████████████████████████                                    | 50788/100000 [00:46<00:48, 1010.28it/s]"
     ]
    },
    {
     "name": "stdout",
     "output_type": "stream",
     "text": [
      "./instruct_data_same_length/data03.bin\n"
     ]
    },
    {
     "name": "stderr",
     "output_type": "stream",
     "text": [
      " 50%|████████████████████████████████████▊                                     | 49790/100000 [00:50<00:56, 883.63it/s]"
     ]
    },
    {
     "name": "stdout",
     "output_type": "stream",
     "text": [
      "./data/data20.json\n"
     ]
    },
    {
     "name": "stderr",
     "output_type": "stream",
     "text": [
      "100%|████████████████████████████████████████████████████████████████████████| 100000/100000 [01:36<00:00, 1038.53it/s]\n",
      " 12%|████████▍                                                                | 11513/100000 [00:10<01:28, 1000.98it/s]"
     ]
    },
    {
     "name": "stdout",
     "output_type": "stream",
     "text": [
      "./instruct_data_same_length/data25.bin\n"
     ]
    },
    {
     "name": "stderr",
     "output_type": "stream",
     "text": [
      " 62%|██████████████████████████████████████████████▏                           | 62470/100000 [00:58<00:38, 976.06it/s]"
     ]
    },
    {
     "name": "stdout",
     "output_type": "stream",
     "text": [
      "./data/data09.json\n"
     ]
    },
    {
     "name": "stderr",
     "output_type": "stream",
     "text": [
      "100%|████████████████████████████████████████████████████████████████████████| 100000/100000 [01:37<00:00, 1030.62it/s]\n",
      "100%|████████████████████████████████████████████████████████████████████████| 100000/100000 [01:36<00:00, 1039.97it/s]\n",
      " 90%|█████████████████████████████████████████████████████████████████▍       | 89718/100000 [01:25<00:09, 1071.99it/s]"
     ]
    },
    {
     "name": "stdout",
     "output_type": "stream",
     "text": [
      "./instruct_data_same_length/data38.bin\n"
     ]
    },
    {
     "name": "stderr",
     "output_type": "stream",
     "text": [
      " 90%|█████████████████████████████████████████████████████████████████▋       | 89942/100000 [01:25<00:09, 1095.60it/s]"
     ]
    },
    {
     "name": "stdout",
     "output_type": "stream",
     "text": [
      "./data/data47.json\n"
     ]
    },
    {
     "name": "stderr",
     "output_type": "stream",
     "text": [
      " 53%|██████████████████████████████████████▉                                   | 52560/100000 [00:51<00:56, 838.19it/s]"
     ]
    },
    {
     "name": "stdout",
     "output_type": "stream",
     "text": [
      "./instruct_data_same_length/data33.bin\n"
     ]
    },
    {
     "name": "stderr",
     "output_type": "stream",
     "text": [
      "  1%|▊                                                                         | 1082/100000 [00:01<01:33, 1056.90it/s]"
     ]
    },
    {
     "name": "stdout",
     "output_type": "stream",
     "text": [
      "./data/data43.json\n"
     ]
    },
    {
     "name": "stderr",
     "output_type": "stream",
     "text": [
      "100%|████████████████████████████████████████████████████████████████████████| 100000/100000 [01:35<00:00, 1048.11it/s]\n",
      "  8%|██████▎                                                                    | 8402/100000 [00:08<01:34, 964.44it/s]"
     ]
    },
    {
     "name": "stdout",
     "output_type": "stream",
     "text": [
      "./instruct_data_same_length/data22.bin\n"
     ]
    },
    {
     "name": "stderr",
     "output_type": "stream",
     "text": [
      "  9%|██████▍                                                                    | 8608/100000 [00:08<01:31, 994.11it/s]"
     ]
    },
    {
     "name": "stdout",
     "output_type": "stream",
     "text": [
      "./data/data44.json\n"
     ]
    },
    {
     "name": "stderr",
     "output_type": "stream",
     "text": [
      " 44%|████████████████████████████████▍                                         | 43861/100000 [00:48<01:06, 840.22it/s]\n",
      " 50%|████████████████████████████████████▉                                     | 49940/100000 [00:49<00:51, 966.34it/s]"
     ]
    },
    {
     "name": "stdout",
     "output_type": "stream",
     "text": [
      "./instruct_data_same_length/data20.bin\n"
     ]
    },
    {
     "name": "stderr",
     "output_type": "stream",
     "text": [
      " 88%|█████████████████████████████████████████████████████████████████▎        | 88202/100000 [01:30<00:12, 938.23it/s]"
     ]
    },
    {
     "name": "stdout",
     "output_type": "stream",
     "text": [
      "./data/data41.json\n"
     ]
    },
    {
     "name": "stderr",
     "output_type": "stream",
     "text": [
      "100%|█████████████████████████████████████████████████████████████████████████| 100000/100000 [01:43<00:00, 966.85it/s]\n",
      " 66%|███████████████████████████████████████████████▉                         | 65624/100000 [01:05<00:32, 1065.59it/s]"
     ]
    },
    {
     "name": "stdout",
     "output_type": "stream",
     "text": [
      "./instruct_data_same_length/data09.bin\n"
     ]
    },
    {
     "name": "stderr",
     "output_type": "stream",
     "text": [
      " 56%|████████████████████████████████████████▊                                | 55949/100000 [00:55<00:40, 1085.80it/s]"
     ]
    },
    {
     "name": "stdout",
     "output_type": "stream",
     "text": [
      "./data/data16.json\n"
     ]
    },
    {
     "name": "stderr",
     "output_type": "stream",
     "text": [
      "100%|████████████████████████████████████████████████████████████████████████| 100000/100000 [01:39<00:00, 1008.04it/s]\n",
      " 93%|████████████████████████████████████████████████████████████████████▍     | 92553/100000 [01:32<00:08, 928.71it/s]"
     ]
    },
    {
     "name": "stdout",
     "output_type": "stream",
     "text": [
      "./instruct_data_same_length/data43.bin\n"
     ]
    },
    {
     "name": "stderr",
     "output_type": "stream",
     "text": [
      "100%|█████████████████████████████████████████████████████████████████████████| 100000/100000 [01:47<00:00, 931.88it/s]\n",
      " 98%|████████████████████████████████████████████████████████████████████████▋ | 98220/100000 [01:38<00:02, 816.12it/s]"
     ]
    },
    {
     "name": "stdout",
     "output_type": "stream",
     "text": [
      "./instruct_data_same_length/data47.bin\n"
     ]
    },
    {
     "name": "stderr",
     "output_type": "stream",
     "text": [
      "100%|████████████████████████████████████████████████████████████████████████| 100000/100000 [01:39<00:00, 1000.81it/s]\n",
      " 67%|████████████████████████████████████████████████▉                        | 66958/100000 [01:01<00:27, 1218.36it/s]"
     ]
    },
    {
     "name": "stdout",
     "output_type": "stream",
     "text": [
      "./instruct_data_same_length/data44.bin\n"
     ]
    },
    {
     "name": "stderr",
     "output_type": "stream",
     "text": [
      "100%|████████████████████████████████████████████████████████████████████████| 100000/100000 [01:30<00:00, 1107.82it/s]\n",
      " 80%|██████████████████████████████████████████████████████████▍              | 80070/100000 [01:16<00:18, 1067.08it/s]"
     ]
    },
    {
     "name": "stdout",
     "output_type": "stream",
     "text": [
      "./instruct_data_same_length/data41.bin\n"
     ]
    },
    {
     "name": "stderr",
     "output_type": "stream",
     "text": [
      "100%|████████████████████████████████████████████████████████████████████████| 100000/100000 [01:33<00:00, 1068.14it/s]\n"
     ]
    },
    {
     "name": "stdout",
     "output_type": "stream",
     "text": [
      "./instruct_data_same_length/data16.bin\n"
     ]
    }
   ],
   "source": [
    "tokenize_all_chunks(data=data, out_folder=out_data)"
   ]
  },
  {
   "cell_type": "code",
   "execution_count": 53,
   "id": "ab933c01-dd3b-41d3-b639-036b72098c27",
   "metadata": {},
   "outputs": [],
   "source": [
    "with open(out_data + 'data01.bin', 'rb') as f:\n",
    "    x = f.read()\n",
    "x = np.frombuffer(x, dtype=np.uint16)"
   ]
  },
  {
   "cell_type": "code",
   "execution_count": 54,
   "id": "de2d81d5-2180-4587-993d-7978012bed94",
   "metadata": {},
   "outputs": [
    {
     "data": {
      "text/plain": [
       "94053.0"
      ]
     },
     "execution_count": 54,
     "metadata": {},
     "output_type": "execute_result"
    }
   ],
   "source": [
    "len(x)/350"
   ]
  },
  {
   "cell_type": "code",
   "execution_count": 55,
   "id": "3a1c5327-1f52-4391-b369-e601aff70c38",
   "metadata": {},
   "outputs": [],
   "source": [
    "with open(out_data + 'labels01.bin', 'rb') as f:\n",
    "    y = f.read()\n",
    "y = np.frombuffer(y, dtype=np.uint16)"
   ]
  },
  {
   "cell_type": "code",
   "execution_count": 56,
   "id": "d60a4b6c-b561-404f-acd2-aea339cbfc5d",
   "metadata": {},
   "outputs": [
    {
     "data": {
      "text/plain": [
       "94053.0"
      ]
     },
     "execution_count": 56,
     "metadata": {},
     "output_type": "execute_result"
    }
   ],
   "source": [
    "len(y)/350"
   ]
  },
  {
   "cell_type": "code",
   "execution_count": null,
   "id": "4c8d5834-8255-4345-97c8-ac5a4cb0f68e",
   "metadata": {},
   "outputs": [],
   "source": []
  }
 ],
 "metadata": {
  "kernelspec": {
   "display_name": "Python [conda env:llama2karpathy]",
   "language": "python",
   "name": "conda-env-llama2karpathy-py"
  },
  "language_info": {
   "codemirror_mode": {
    "name": "ipython",
    "version": 3
   },
   "file_extension": ".py",
   "mimetype": "text/x-python",
   "name": "python",
   "nbconvert_exporter": "python",
   "pygments_lexer": "ipython3",
   "version": "3.9.17"
  }
 },
 "nbformat": 4,
 "nbformat_minor": 5
}
