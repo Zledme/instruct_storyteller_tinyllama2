{
 "cells": [
  {
   "cell_type": "markdown",
   "id": "3969128d-2e3c-4d20-8d34-18c5bdab4bc5",
   "metadata": {},
   "source": [
    "# imports"
   ]
  },
  {
   "cell_type": "code",
   "execution_count": 1,
   "id": "02281434-f8a1-40a4-acda-aff972804ada",
   "metadata": {},
   "outputs": [],
   "source": [
    "import json\n",
    "import os\n",
    "from tqdm import tqdm\n",
    "import numpy as np"
   ]
  },
  {
   "cell_type": "code",
   "execution_count": 2,
   "id": "25a09ddc-4efd-4c3d-8447-11e880191e26",
   "metadata": {},
   "outputs": [],
   "source": [
    "from concurrent.futures import ProcessPoolExecutor"
   ]
  },
  {
   "cell_type": "code",
   "execution_count": 3,
   "id": "9361ca80-cc1f-4ca0-9566-ae2d483923e9",
   "metadata": {},
   "outputs": [],
   "source": [
    "from sentencepiece import SentencePieceProcessor"
   ]
  },
  {
   "cell_type": "markdown",
   "id": "db571644-96f2-4e45-9b38-c525cce17b2b",
   "metadata": {},
   "source": [
    "# paths"
   ]
  },
  {
   "cell_type": "code",
   "execution_count": 4,
   "id": "0eab4d98-452e-46d1-9ca4-2e1a1d96a7b8",
   "metadata": {},
   "outputs": [],
   "source": [
    "data = './data'"
   ]
  },
  {
   "cell_type": "code",
   "execution_count": 5,
   "id": "3acebf20-8fba-4a9b-858b-126632c1f725",
   "metadata": {},
   "outputs": [],
   "source": [
    "tokenizer_path = './tokenizer.model'\n",
    "# this is the same tokenizer as found in llama2"
   ]
  },
  {
   "cell_type": "markdown",
   "id": "2f8bbb3c-1dd7-4165-b80e-2b9001223ae1",
   "metadata": {},
   "source": [
    "# download dataset"
   ]
  },
  {
   "cell_type": "code",
   "execution_count": 6,
   "id": "d4557e1c-c4ee-4eaa-9c25-98e62c71c335",
   "metadata": {},
   "outputs": [],
   "source": [
    "with open(os.path.join(data, 'data07.json'), 'r') as f:\n",
    "    json_data = json.load(f)"
   ]
  },
  {
   "cell_type": "code",
   "execution_count": 7,
   "id": "704fa0f3-50f7-43fc-9d51-09801bc66a4e",
   "metadata": {},
   "outputs": [
    {
     "name": "stdout",
     "output_type": "stream",
     "text": [
      "100000\n"
     ]
    },
    {
     "data": {
      "text/plain": [
       "[{'story': \"Once upon a time, there was a big, fierce lion. He lived in a jungle with lots of trees and animals. One day, the lion was walking around and he saw a lab. The lab was a big building with lots of rooms and people inside.\\nThe lion thought it would be fun to hang from the lab's roof. So, he climbed up the building and hung from the edge. The people inside were surprised and scared when they saw the lion hanging from the roof!\\nBut then, the lion realized he was being silly and climbed back down. He decided to go back to the jungle and play with his animal friends instead. The end.\",\n",
       "  'instruction': {'prompt:': 'Write a short story (3-5 paragraphs) which only uses very simple words that a 3 year old child would understand. In the story, try to at some point use the verb \"hang\", the noun \"lab\" and the adjective \"fierce\". Remember to only use simple words!',\n",
       "   'words': ['hang', 'lab', 'fierce'],\n",
       "   'features': []},\n",
       "  'summary': 'A lion climbs up a lab building and hangs from the roof, scaring the people inside, but later realizes it was silly and goes back to the jungle.',\n",
       "  'source': 'GPT-3.5'},\n",
       " {'story': ' \\nOnce upon a time there was a blue bear called Pat. Pat loved to stay in the woods, but he had no friends. One day, he heard a powerful roar coming from the cave nearby. Scared, he decided to stay away.\\nThe next day, Pat decided to explore the cave. He wanted to know what was making the loud noise.\\nHe went inside and saw a huge, powerful dragon. The dragon said to Pat, “You can stay and be my friend, or you can go.”\\nPat knew the choice was hard, so he thought it best to stay. Suddenly the dragon roared and breathed a huge fireball right at Pat. Pat screamed and tried to run away but he was too late.\\nUnfortunately for Pat, he never made it out of the cave. The dragon was too powerful for poor Pat.',\n",
       "  'instruction': {'prompt:': 'Write a short story (3-5 paragraphs) which only uses very simple words that a 3 year old child would understand. The story should use the verb \"stay\", the noun \"blue\" and the adjective \"powerful\". The story has the following features: the story should contain at least one dialogue, the story has a bad ending. Remember to only use simple words!\\n\\nPossible story:',\n",
       "   'words': ['stay', 'blue', 'powerful'],\n",
       "   'features': ['Dialogue', 'BadEnding']},\n",
       "  'summary': 'A blue bear named Pat discovers a dragon in a nearby cave and is given the choice to stay and be friends or leave, but ultimately meets a tragic end.',\n",
       "  'source': 'GPT-4'}]"
      ]
     },
     "execution_count": 7,
     "metadata": {},
     "output_type": "execute_result"
    }
   ],
   "source": [
    "print(len(json_data))\n",
    "json_data[:2]"
   ]
  },
  {
   "cell_type": "markdown",
   "id": "131bea8d-794f-44c1-b03a-3697b7195889",
   "metadata": {},
   "source": [
    "# tokenize"
   ]
  },
  {
   "cell_type": "code",
   "execution_count": 8,
   "id": "b33e1f27-c067-49ca-82bb-222cd92a676d",
   "metadata": {},
   "outputs": [],
   "source": [
    "tokenizer = SentencePieceProcessor(model_file=tokenizer_path)"
   ]
  },
  {
   "cell_type": "code",
   "execution_count": 9,
   "id": "806b21ab-4543-42d5-8b8f-01222e7b0b9f",
   "metadata": {},
   "outputs": [
    {
     "name": "stdout",
     "output_type": "stream",
     "text": [
      "32000\n",
      "1 2\n"
     ]
    }
   ],
   "source": [
    "print(tokenizer.vocab_size())\n",
    "print(tokenizer.bos_id(), tokenizer.eos_id())"
   ]
  },
  {
   "cell_type": "code",
   "execution_count": 10,
   "id": "e231662d-b017-4825-9df1-34c8c1dc0b89",
   "metadata": {},
   "outputs": [
    {
     "name": "stdout",
     "output_type": "stream",
     "text": [
      "584\n",
      "116\n",
      "150\n",
      "[1, 9038, 2501, 263, 931, 29892, 727, 471, 263, 4802]\n"
     ]
    }
   ],
   "source": [
    "story = json_data[0]['story'].strip()\n",
    "tokens = [tokenizer.bos_id()] + tokenizer.encode(story)\n",
    "print(len(story)), print(len(story.split())), print(len(tokens))\n",
    "print(tokens[:10])"
   ]
  },
  {
   "cell_type": "code",
   "execution_count": 11,
   "id": "2f3bcaec-59dc-4131-8bcd-68cd302cb0d8",
   "metadata": {},
   "outputs": [],
   "source": [
    "def tokenize_chunk(chunk_path):\n",
    "    print(chunk_path)\n",
    "    with open(chunk_path, 'r') as f:\n",
    "        chunk = json.load(f)\n",
    "    all_tokens = []\n",
    "    for sample in tqdm(chunk):\n",
    "        story = sample['story'].strip()\n",
    "        all_tokens.extend([tokenizer.bos_id()] + tokenizer.encode(story))\n",
    "    all_tokens = np.array(all_tokens, dtype=np.uint16)\n",
    "    with open(chunk_path.replace('.json', '.bin'), \"wb\") as f:\n",
    "        f.write(all_tokens.tobytes())\n",
    "    # calculate the average sequence length (they are separated by BOS=1)\n",
    "    avg_seq_len = all_tokens.size / ((all_tokens == tokenizer.bos_id()).sum())\n",
    "    print(f\"Saved {tokenized_filename}, average seqlen: {avg_seq_len:.2f}\")\n",
    "        \n",
    "    \n",
    "def tokenize_all_chunks(data, max_workers=5):\n",
    "    json_paths = [os.path.join(data, fn) for fn in os.listdir(data) if fn.endswith('json')]\n",
    "    with ProcessPoolExecutor(max_workers=max_workers) as executor:\n",
    "        executor.map(tokenize_chunk, json_paths)\n",
    "        \n",
    "        "
   ]
  },
  {
   "cell_type": "code",
   "execution_count": 12,
   "id": "2a15a078-c8e7-4fa2-9dca-48e99461e819",
   "metadata": {},
   "outputs": [
    {
     "name": "stdout",
     "output_type": "stream",
     "text": [
      "./data/data17.json./data/data42.json\n",
      "./data/data30.json\n",
      "./data/data14.json./data/data11.json\n",
      "\n",
      "\n"
     ]
    },
    {
     "name": "stderr",
     "output_type": "stream",
     "text": [
      "100%|███████████████████████████████████████████████████████████████████████| 100000/100000 [00:41<00:00, 2390.73it/s]\n",
      " 96%|████████████████████████████████████████████████████████████████████▊   | 95522/100000 [00:42<00:01, 2414.64it/s]"
     ]
    },
    {
     "name": "stdout",
     "output_type": "stream",
     "text": [
      "./data/data26.json\n"
     ]
    },
    {
     "name": "stderr",
     "output_type": "stream",
     "text": [
      "100%|███████████████████████████████████████████████████████████████████████| 100000/100000 [00:44<00:00, 2233.70it/s]\n",
      "100%|███████████████████████████████████████████████████████████████████████| 100000/100000 [00:44<00:00, 2232.19it/s]\n",
      "100%|███████████████████████████████████████████████████████████████████████| 100000/100000 [00:45<00:00, 2178.25it/s]\n",
      "100%|███████████████████████████████████████████████████████████████████████▊| 99685/100000 [00:45<00:00, 1977.89it/s]"
     ]
    },
    {
     "name": "stdout",
     "output_type": "stream",
     "text": [
      "./data/data49.json\n",
      "./data/data39.json\n"
     ]
    },
    {
     "name": "stderr",
     "output_type": "stream",
     "text": [
      "100%|███████████████████████████████████████████████████████████████████████| 100000/100000 [00:46<00:00, 2168.29it/s]\n",
      "  1%|▌                                                                          | 516/67871 [00:00<00:26, 2579.17it/s]"
     ]
    },
    {
     "name": "stdout",
     "output_type": "stream",
     "text": [
      "./data/data31.json\n"
     ]
    },
    {
     "name": "stderr",
     "output_type": "stream",
     "text": [
      "  6%|████▎                                                                    | 5941/100000 [00:03<00:49, 1898.15it/s]"
     ]
    },
    {
     "name": "stdout",
     "output_type": "stream",
     "text": [
      "./data/data24.json\n"
     ]
    },
    {
     "name": "stderr",
     "output_type": "stream",
     "text": [
      "100%|█████████████████████████████████████████████████████████████████████████| 67871/67871 [00:28<00:00, 2412.92it/s]\n",
      " 63%|█████████████████████████████████████████████▎                          | 62853/100000 [00:28<00:16, 2249.87it/s]"
     ]
    },
    {
     "name": "stdout",
     "output_type": "stream",
     "text": [
      "./data/data46.json\n"
     ]
    },
    {
     "name": "stderr",
     "output_type": "stream",
     "text": [
      "100%|███████████████████████████████████████████████████████████████████████| 100000/100000 [00:46<00:00, 2158.14it/s]\n",
      " 97%|█████████████████████████████████████████████████████████████████████▉  | 97135/100000 [00:44<00:01, 2507.71it/s]"
     ]
    },
    {
     "name": "stdout",
     "output_type": "stream",
     "text": [
      "./data/data18.json"
     ]
    },
    {
     "name": "stderr",
     "output_type": "stream",
     "text": [
      " 31%|██████████████████████▍                                                 | 31155/100000 [00:14<00:35, 1930.48it/s]"
     ]
    },
    {
     "name": "stdout",
     "output_type": "stream",
     "text": [
      "\n"
     ]
    },
    {
     "name": "stderr",
     "output_type": "stream",
     "text": [
      "100%|███████████████████████████████████████████████████████████████████████| 100000/100000 [00:45<00:00, 2200.21it/s]\n",
      " 92%|█████████████████████████████████████████████████████████████████▉      | 91591/100000 [00:45<00:03, 2157.01it/s]"
     ]
    },
    {
     "name": "stdout",
     "output_type": "stream",
     "text": [
      "./data/data29.json\n"
     ]
    },
    {
     "name": "stderr",
     "output_type": "stream",
     "text": [
      "100%|███████████████████████████████████████████████████████████████████████| 100000/100000 [00:48<00:00, 2077.33it/s]\n",
      "  7%|████▉                                                                    | 6794/100000 [00:02<00:39, 2337.55it/s]"
     ]
    },
    {
     "name": "stdout",
     "output_type": "stream",
     "text": [
      "./data/data45.json\n"
     ]
    },
    {
     "name": "stderr",
     "output_type": "stream",
     "text": [
      "100%|███████████████████████████████████████████████████████████████████████| 100000/100000 [00:49<00:00, 2038.59it/s]\n",
      " 14%|██████████                                                              | 13959/100000 [00:06<00:39, 2168.75it/s]"
     ]
    },
    {
     "name": "stdout",
     "output_type": "stream",
     "text": [
      "./data/data07.json\n"
     ]
    },
    {
     "name": "stderr",
     "output_type": "stream",
     "text": [
      "100%|███████████████████████████████████████████████████████████████████████| 100000/100000 [00:44<00:00, 2234.02it/s]\n",
      " 66%|███████████████████████████████████████████████▍                        | 65867/100000 [00:28<00:13, 2509.70it/s]"
     ]
    },
    {
     "name": "stdout",
     "output_type": "stream",
     "text": [
      "./data/data23.json\n"
     ]
    },
    {
     "name": "stderr",
     "output_type": "stream",
     "text": [
      "100%|███████████████████████████████████████████████████████████████████████| 100000/100000 [00:44<00:00, 2228.56it/s]\n",
      "100%|███████████████████████████████████████████████████████████████████████| 100000/100000 [00:43<00:00, 2309.96it/s]\n",
      " 32%|███████████████████████                                                 | 32055/100000 [00:14<00:34, 1943.55it/s]"
     ]
    },
    {
     "name": "stdout",
     "output_type": "stream",
     "text": [
      "./data/data02.json\n"
     ]
    },
    {
     "name": "stderr",
     "output_type": "stream",
     "text": [
      " 86%|██████████████████████████████████████████████████████████████▏         | 86395/100000 [00:39<00:06, 2146.33it/s]"
     ]
    },
    {
     "name": "stdout",
     "output_type": "stream",
     "text": [
      "./data/data08.json\n"
     ]
    },
    {
     "name": "stderr",
     "output_type": "stream",
     "text": [
      "100%|███████████████████████████████████████████████████████████████████████| 100000/100000 [00:46<00:00, 2162.68it/s]\n",
      "100%|███████████████████████████████████████████████████████████████████████| 100000/100000 [00:46<00:00, 2169.34it/s]\n",
      " 13%|█████████▎                                                              | 12996/100000 [00:05<00:38, 2268.31it/s]"
     ]
    },
    {
     "name": "stdout",
     "output_type": "stream",
     "text": [
      "./data/data19.json\n"
     ]
    },
    {
     "name": "stderr",
     "output_type": "stream",
     "text": [
      " 15%|███████████                                                             | 15303/100000 [00:06<00:37, 2270.39it/s]"
     ]
    },
    {
     "name": "stdout",
     "output_type": "stream",
     "text": [
      "./data/data32.json\n"
     ]
    },
    {
     "name": "stderr",
     "output_type": "stream",
     "text": [
      "100%|███████████████████████████████████████████████████████████████████████| 100000/100000 [00:45<00:00, 2216.27it/s]\n",
      " 66%|███████████████████████████████████████████████▎                        | 65653/100000 [00:29<00:18, 1861.90it/s]"
     ]
    },
    {
     "name": "stdout",
     "output_type": "stream",
     "text": [
      "./data/data27.json\n"
     ]
    },
    {
     "name": "stderr",
     "output_type": "stream",
     "text": [
      "100%|███████████████████████████████████████████████████████████████████████| 100000/100000 [00:45<00:00, 2194.82it/s]\n",
      "100%|███████████████████████████████████████████████████████████████████████| 100000/100000 [00:45<00:00, 2182.73it/s]\n",
      " 81%|██████████████████████████████████████████████████████████▍             | 81225/100000 [00:38<00:09, 1936.00it/s]"
     ]
    },
    {
     "name": "stdout",
     "output_type": "stream",
     "text": [
      "./data/data01.json\n"
     ]
    },
    {
     "name": "stderr",
     "output_type": "stream",
     "text": [
      " 34%|████████████████████████▍                                               | 33902/100000 [00:15<00:35, 1861.91it/s]"
     ]
    },
    {
     "name": "stdout",
     "output_type": "stream",
     "text": [
      "./data/data48.json\n"
     ]
    },
    {
     "name": "stderr",
     "output_type": "stream",
     "text": [
      "100%|███████████████████████████████████████████████████████████████████████| 100000/100000 [00:46<00:00, 2144.44it/s]\n",
      " 14%|█████████▊                                                              | 13624/100000 [00:06<00:40, 2107.66it/s]"
     ]
    },
    {
     "name": "stdout",
     "output_type": "stream",
     "text": [
      "./data/data21.json\n"
     ]
    },
    {
     "name": "stderr",
     "output_type": "stream",
     "text": [
      "100%|███████████████████████████████████████████████████████████████████████| 100000/100000 [00:47<00:00, 2091.49it/s]\n",
      "  2%|█▊                                                                       | 2475/100000 [00:01<00:45, 2136.78it/s]"
     ]
    },
    {
     "name": "stdout",
     "output_type": "stream",
     "text": [
      "./data/data10.json\n"
     ]
    },
    {
     "name": "stderr",
     "output_type": "stream",
     "text": [
      " 65%|███████████████████████████████████████████████                         | 65311/100000 [00:29<00:15, 2219.72it/s]\n",
      " 42%|██████████████████████████████▍                                         | 42270/100000 [00:20<00:28, 2001.84it/s]"
     ]
    },
    {
     "name": "stdout",
     "output_type": "stream",
     "text": [
      "./data/data06.json\n"
     ]
    },
    {
     "name": "stderr",
     "output_type": "stream",
     "text": [
      "100%|███████████████████████████████████████████████████████████████████████| 100000/100000 [00:44<00:00, 2229.39it/s]\n",
      " 78%|████████████████████████████████████████████████████████▎               | 78240/100000 [00:37<00:11, 1954.19it/s]"
     ]
    },
    {
     "name": "stdout",
     "output_type": "stream",
     "text": [
      "./data/data12.json\n"
     ]
    },
    {
     "name": "stderr",
     "output_type": "stream",
     "text": [
      "100%|███████████████████████████████████████████████████████████████████████| 100000/100000 [00:45<00:00, 2190.74it/s]\n",
      " 35%|█████████████████████████▎                                              | 35191/100000 [00:15<00:26, 2469.12it/s]"
     ]
    },
    {
     "name": "stdout",
     "output_type": "stream",
     "text": [
      "./data/data34.json\n"
     ]
    },
    {
     "name": "stderr",
     "output_type": "stream",
     "text": [
      "100%|███████████████████████████████████████████████████████████████████████| 100000/100000 [00:48<00:00, 2079.07it/s]\n",
      " 19%|█████████████▌                                                          | 18910/100000 [00:08<00:34, 2346.33it/s]"
     ]
    },
    {
     "name": "stdout",
     "output_type": "stream",
     "text": [
      "./data/data04.json\n"
     ]
    },
    {
     "name": "stderr",
     "output_type": "stream",
     "text": [
      "100%|███████████████████████████████████████████████████████████████████████| 100000/100000 [00:47<00:00, 2118.96it/s]\n",
      " 25%|█████████████████▋                                                      | 24581/100000 [00:10<00:32, 2346.50it/s]"
     ]
    },
    {
     "name": "stdout",
     "output_type": "stream",
     "text": [
      "./data/data36.json\n"
     ]
    },
    {
     "name": "stderr",
     "output_type": "stream",
     "text": [
      "100%|███████████████████████████████████████████████████████████████████████| 100000/100000 [00:44<00:00, 2261.99it/s]\n",
      " 68%|█████████████████████████████████████████████████▎                      | 68458/100000 [00:28<00:12, 2502.38it/s]"
     ]
    },
    {
     "name": "stdout",
     "output_type": "stream",
     "text": [
      "./data/data37.json\n"
     ]
    },
    {
     "name": "stderr",
     "output_type": "stream",
     "text": [
      "100%|███████████████████████████████████████████████████████████████████████| 100000/100000 [00:41<00:00, 2436.45it/s]\n",
      " 31%|██████████████████████                                                  | 30573/100000 [00:12<00:27, 2521.77it/s]"
     ]
    },
    {
     "name": "stdout",
     "output_type": "stream",
     "text": [
      "./data/data00.json\n"
     ]
    },
    {
     "name": "stderr",
     "output_type": "stream",
     "text": [
      " 78%|████████████████████████████████████████████████████████                | 77812/100000 [00:34<00:09, 2238.44it/s]\n",
      "  5%|███▌                                                                     | 4799/100000 [00:02<00:51, 1852.91it/s]"
     ]
    },
    {
     "name": "stdout",
     "output_type": "stream",
     "text": [
      "./data/data05.json\n"
     ]
    },
    {
     "name": "stderr",
     "output_type": "stream",
     "text": [
      "100%|███████████████████████████████████████████████████████████████████████| 100000/100000 [00:43<00:00, 2325.16it/s]\n",
      "100%|███████████████████████████████████████████████████████████████████████| 100000/100000 [00:44<00:00, 2226.95it/s]\n",
      " 20%|██████████████                                                          | 19581/100000 [00:08<00:34, 2346.82it/s]"
     ]
    },
    {
     "name": "stdout",
     "output_type": "stream",
     "text": [
      "./data/data40.json\n"
     ]
    },
    {
     "name": "stderr",
     "output_type": "stream",
     "text": [
      " 63%|█████████████████████████████████████████████▏                          | 62697/100000 [00:26<00:15, 2352.90it/s]"
     ]
    },
    {
     "name": "stdout",
     "output_type": "stream",
     "text": [
      "./data/data35.json\n"
     ]
    },
    {
     "name": "stderr",
     "output_type": "stream",
     "text": [
      "100%|███████████████████████████████████████████████████████████████████████| 100000/100000 [00:42<00:00, 2368.69it/s]\n",
      " 39%|███████████████████████████▋                                            | 38506/100000 [00:16<00:24, 2524.19it/s]"
     ]
    },
    {
     "name": "stdout",
     "output_type": "stream",
     "text": [
      "./data/data28.json\n"
     ]
    },
    {
     "name": "stderr",
     "output_type": "stream",
     "text": [
      "100%|███████████████████████████████████████████████████████████████████████| 100000/100000 [00:38<00:00, 2565.20it/s]\n",
      " 83%|████████████████████████████████████████████████████████████            | 83486/100000 [00:36<00:07, 2159.72it/s]"
     ]
    },
    {
     "name": "stdout",
     "output_type": "stream",
     "text": [
      "./data/data15.json\n"
     ]
    },
    {
     "name": "stderr",
     "output_type": "stream",
     "text": [
      "100%|███████████████████████████████████████████████████████████████████████| 100000/100000 [00:43<00:00, 2300.49it/s]\n",
      " 83%|███████████████████████████████████████████████████████████▍            | 82591/100000 [00:34<00:07, 2437.98it/s]"
     ]
    },
    {
     "name": "stdout",
     "output_type": "stream",
     "text": [
      "./data/data13.json\n"
     ]
    },
    {
     "name": "stderr",
     "output_type": "stream",
     "text": [
      "100%|███████████████████████████████████████████████████████████████████████| 100000/100000 [00:42<00:00, 2362.73it/s]\n",
      " 17%|████████████▌                                                           | 17483/100000 [00:07<00:35, 2346.82it/s]"
     ]
    },
    {
     "name": "stdout",
     "output_type": "stream",
     "text": [
      "./data/data03.json\n"
     ]
    },
    {
     "name": "stderr",
     "output_type": "stream",
     "text": [
      "100%|███████████████████████████████████████████████████████████████████████| 100000/100000 [00:45<00:00, 2185.44it/s]\n",
      " 47%|█████████████████████████████████▍                                      | 46520/100000 [00:19<00:23, 2283.92it/s]"
     ]
    },
    {
     "name": "stdout",
     "output_type": "stream",
     "text": [
      "./data/data25.json\n"
     ]
    },
    {
     "name": "stderr",
     "output_type": "stream",
     "text": [
      "100%|███████████████████████████████████████████████████████████████████████| 100000/100000 [00:43<00:00, 2301.70it/s]\n",
      " 79%|█████████████████████████████████████████████████████████               | 79301/100000 [00:33<00:11, 1856.14it/s]"
     ]
    },
    {
     "name": "stdout",
     "output_type": "stream",
     "text": [
      "./data/data38.json\n"
     ]
    },
    {
     "name": "stderr",
     "output_type": "stream",
     "text": [
      "100%|███████████████████████████████████████████████████████████████████████| 100000/100000 [00:42<00:00, 2342.11it/s]\n",
      " 21%|██████████████▊                                                         | 20543/100000 [00:09<00:40, 1962.82it/s]"
     ]
    },
    {
     "name": "stdout",
     "output_type": "stream",
     "text": [
      "./data/data33.json\n"
     ]
    },
    {
     "name": "stderr",
     "output_type": "stream",
     "text": [
      "100%|███████████████████████████████████████████████████████████████████████| 100000/100000 [00:40<00:00, 2463.86it/s]\n",
      " 11%|███████▋                                                                | 10723/100000 [00:04<00:38, 2332.01it/s]"
     ]
    },
    {
     "name": "stdout",
     "output_type": "stream",
     "text": [
      "./data/data22.json\n"
     ]
    },
    {
     "name": "stderr",
     "output_type": "stream",
     "text": [
      "100%|███████████████████████████████████████████████████████████████████████| 100000/100000 [00:45<00:00, 2206.29it/s]\n",
      " 27%|███████████████████▌                                                    | 27143/100000 [00:11<00:32, 2226.91it/s]"
     ]
    },
    {
     "name": "stdout",
     "output_type": "stream",
     "text": [
      "./data/data20.json\n"
     ]
    },
    {
     "name": "stderr",
     "output_type": "stream",
     "text": [
      "100%|███████████████████████████████████████████████████████████████████████| 100000/100000 [00:43<00:00, 2310.33it/s]\n",
      " 46%|█████████████████████████████████▏                                      | 46037/100000 [00:19<00:20, 2630.56it/s]"
     ]
    },
    {
     "name": "stdout",
     "output_type": "stream",
     "text": [
      "./data/data09.json\n"
     ]
    },
    {
     "name": "stderr",
     "output_type": "stream",
     "text": [
      "100%|███████████████████████████████████████████████████████████████████████| 100000/100000 [00:43<00:00, 2320.87it/s]\n",
      " 83%|███████████████████████████████████████████████████████████▌            | 82794/100000 [00:34<00:07, 2321.52it/s]"
     ]
    },
    {
     "name": "stdout",
     "output_type": "stream",
     "text": [
      "./data/data47.json\n"
     ]
    },
    {
     "name": "stderr",
     "output_type": "stream",
     "text": [
      "100%|███████████████████████████████████████████████████████████████████████| 100000/100000 [00:40<00:00, 2447.03it/s]\n",
      " 48%|██████████████████████████████████▋                                     | 48094/100000 [00:21<00:22, 2268.94it/s]"
     ]
    },
    {
     "name": "stdout",
     "output_type": "stream",
     "text": [
      "./data/data43.json\n"
     ]
    },
    {
     "name": "stderr",
     "output_type": "stream",
     "text": [
      "100%|███████████████████████████████████████████████████████████████████████| 100000/100000 [00:43<00:00, 2311.45it/s]\n",
      " 35%|█████████████████████████▏                                              | 34962/100000 [00:15<00:29, 2239.90it/s]"
     ]
    },
    {
     "name": "stdout",
     "output_type": "stream",
     "text": [
      "./data/data44.json\n"
     ]
    },
    {
     "name": "stderr",
     "output_type": "stream",
     "text": [
      "100%|███████████████████████████████████████████████████████████████████████| 100000/100000 [00:45<00:00, 2200.53it/s]\n",
      " 35%|████████████████████████▊                                               | 34545/100000 [00:14<00:28, 2312.12it/s]"
     ]
    },
    {
     "name": "stdout",
     "output_type": "stream",
     "text": [
      "./data/data41.json\n"
     ]
    },
    {
     "name": "stderr",
     "output_type": "stream",
     "text": [
      "100%|███████████████████████████████████████████████████████████████████████| 100000/100000 [00:45<00:00, 2201.90it/s]\n",
      "  2%|█▍                                                                       | 2053/100000 [00:00<00:45, 2153.24it/s]"
     ]
    },
    {
     "name": "stdout",
     "output_type": "stream",
     "text": [
      "./data/data16.json\n"
     ]
    },
    {
     "name": "stderr",
     "output_type": "stream",
     "text": [
      "100%|███████████████████████████████████████████████████████████████████████| 100000/100000 [00:43<00:00, 2308.70it/s]\n",
      " 36%|██████████████████████████▏                                             | 36370/100000 [00:15<00:28, 2231.46it/s]\n",
      "100%|███████████████████████████████████████████████████████████████████████| 100000/100000 [00:41<00:00, 2419.67it/s]\n",
      "100%|███████████████████████████████████████████████████████████████████████| 100000/100000 [00:43<00:00, 2313.54it/s]\n",
      "100%|███████████████████████████████████████████████████████████████████████| 100000/100000 [00:42<00:00, 2328.24it/s]\n"
     ]
    }
   ],
   "source": [
    "tokenize_all_chunks(data)"
   ]
  },
  {
   "cell_type": "code",
   "execution_count": 13,
   "id": "ab933c01-dd3b-41d3-b639-036b72098c27",
   "metadata": {},
   "outputs": [
    {
     "data": {
      "text/plain": [
       "array([    1,  9038,  2501, ...,  1407,  9796, 29889], dtype=uint16)"
      ]
     },
     "execution_count": 13,
     "metadata": {},
     "output_type": "execute_result"
    }
   ],
   "source": [
    "with open('./data/data01.bin', 'rb') as f:\n",
    "    x = f.read()\n",
    "np.frombuffer(x, dtype=np.uint16)"
   ]
  },
  {
   "cell_type": "code",
   "execution_count": 14,
   "id": "3a1c5327-1f52-4391-b369-e601aff70c38",
   "metadata": {},
   "outputs": [],
   "source": [
    "with open('./data/data07.bin', 'rb') as f:\n",
    "    x = f.read()\n",
    "x = np.frombuffer(x, dtype=np.uint16)"
   ]
  },
  {
   "cell_type": "code",
   "execution_count": 15,
   "id": "49db46bf-2feb-43e5-90cc-09abe51a9764",
   "metadata": {},
   "outputs": [],
   "source": [
    "x = x[:1000]"
   ]
  },
  {
   "cell_type": "code",
   "execution_count": 16,
   "id": "0f322e2a-4f75-4b6e-9746-b0882ca33785",
   "metadata": {},
   "outputs": [
    {
     "name": "stdout",
     "output_type": "stream",
     "text": [
      "Once upon a time, there was a big, fierce lion. He lived in a jungle with lots of trees and animals. One day, the lion was walking around and he saw a lab. The lab was a big building with lots of rooms and people inside.\n",
      "The lion thought it would be fun to hang from the lab's roof. So, he climbed up the building and hung from the edge. The people inside were surprised and scared when they saw the lion hanging from the roof!\n",
      "But then, the lion realized he was being silly and climbed back down. He decided to go back to the jungle and play with his animal friends instead. The end. Once upon a time there was a blue bear called Pat. Pat loved to stay in the woods, but he had no friends. One day, he heard a powerful roar coming from the cave nearby. Scared, he decided to stay away.\n",
      "The next day, Pat decided to explore the cave. He wanted to know what was making the loud noise.\n",
      "He went inside and saw a huge, powerful dragon. The dragon said to Pat, “You can stay and be my friend, or you can go.”\n",
      "Pat knew the choice was hard, so he thought it best to stay. Suddenly the dragon roared and breathed a huge fireball right at Pat. Pat screamed and tried to run away but he was too late.\n",
      "Unfortunately for Pat, he never made it out of the cave. The dragon was too powerful for poor Pat. Once upon a time, there was a smart rabbit named Benny. Benny was very intelligent and knew how to solve puzzles. One day, Benny went for a walk and saw a hunter with a gun. The hunter wanted to shoot the rabbit, but Benny was quick and ran away.\n",
      "As he was running, Benny felt a pain in his chest. He realized he had a problem with his lung. Benny knew he needed help, so he went to his friend, a wise owl named Oliver. Oliver looked at Benny's lung and knew just what to do. He gave Benny some medicine and told him to rest.\n",
      "After a few days, Benny's lung was better and he felt great. He was happy to be alive and grateful to have such a good friend like Oliver. Benny knew that he was lucky to have a friend who was so intelligent and could help him when he needed it. Once upon a time, there was a big castle with a guard. The guard was a strong man who kept the castle safe from bad guys. One day, the guard saw something strange appear in the sky. It was a big, icy ball falling towards the castle.\n",
      "The guard quickly ran inside and told the king about the icy ball. The king was worried that the ball would hurt the castle and his people. So, he ordered the guard to protect the castle from the icy ball.\n",
      "The guard stood outside with his sword, ready to protect the castle. The icy ball got closer and closer, but the guard stood strong. Finally, the icy ball hit the castle wall, but the guard had protected everyone inside.\n",
      "The king was so happy and gave the guard a big reward for his bravery. From that day on, the guard was known as the hero who protected the castle from the icy ball. Once upon a time, there was a little boy named Timmy. Timmy loved playing outside in the sun. He would run around and laugh with his friends. One day, Timmy and his friends found a big, heavy hose lying on the ground. They decided to play with it and spray water all around.\n",
      "Suddenly, Timmy accidentally sprayed water on his neighbor's cat. The cat got very wet and ran away. Timmy felt bad and knew he had done something wrong. Later that day, the neighbor came to Timmy's house and said he was going to punish him for what he did to the cat.\n",
      "Timmy was scared and didn't know what to do. But then, the neighbor surprised him by saying he was only joking and that he loved cats. Timmy was relieved and promised to be more careful next time he played with the hose. From then on, he made sure to only spray water on things that needed it, like flowers and plants. Once upon a time, there was a big river. In the river, there was a crocodile. The crocodile liked to swim and catch fish. One day, the crocodile saw a monkey on a tree. The monkey was e\n"
     ]
    }
   ],
   "source": [
    "print(tokenizer.decode(x.tolist()))"
   ]
  },
  {
   "cell_type": "code",
   "execution_count": 64,
   "id": "bf979014-1a65-4f6c-aede-b483c90df63b",
   "metadata": {},
   "outputs": [
    {
     "data": {
      "text/plain": [
       "20638398"
      ]
     },
     "execution_count": 64,
     "metadata": {},
     "output_type": "execute_result"
    }
   ],
   "source": [
    "len(x)"
   ]
  },
  {
   "cell_type": "code",
   "execution_count": 65,
   "id": "2a86f6cc-cef1-487e-810e-12dbc31dd57c",
   "metadata": {},
   "outputs": [
    {
     "data": {
      "text/plain": [
       "array([    1,  9038,  2501, ...,  3926,  1156, 29889], dtype=uint16)"
      ]
     },
     "execution_count": 65,
     "metadata": {},
     "output_type": "execute_result"
    }
   ],
   "source": [
    "x"
   ]
  },
  {
   "cell_type": "code",
   "execution_count": null,
   "id": "4b9e83e0-4e12-4d95-b6ea-f6f7107e006c",
   "metadata": {},
   "outputs": [],
   "source": []
  }
 ],
 "metadata": {
  "kernelspec": {
   "display_name": "Python [conda env:llama2karpathy]",
   "language": "python",
   "name": "conda-env-llama2karpathy-py"
  },
  "language_info": {
   "codemirror_mode": {
    "name": "ipython",
    "version": 3
   },
   "file_extension": ".py",
   "mimetype": "text/x-python",
   "name": "python",
   "nbconvert_exporter": "python",
   "pygments_lexer": "ipython3",
   "version": "3.9.17"
  }
 },
 "nbformat": 4,
 "nbformat_minor": 5
}
