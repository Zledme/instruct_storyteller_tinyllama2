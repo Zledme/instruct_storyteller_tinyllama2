{
 "cells": [
  {
   "cell_type": "markdown",
   "metadata": {},
   "source": [
    "# imports"
   ]
  },
  {
   "cell_type": "code",
   "execution_count": 1,
   "metadata": {},
   "outputs": [],
   "source": [
    "import math\n",
    "import os\n",
    "import glob\n",
    "import random\n",
    "from functools import partial\n",
    "\n",
    "import numpy as np\n",
    "import torch\n",
    "import torch.nn.functional as F\n"
   ]
  },
  {
   "cell_type": "code",
   "execution_count": 2,
   "metadata": {},
   "outputs": [],
   "source": [
    "\n",
    "from contextlib import nullcontext"
   ]
  },
  {
   "cell_type": "code",
   "execution_count": 3,
   "metadata": {},
   "outputs": [],
   "source": [
    "import matplotlib.pyplot as plt"
   ]
  },
  {
   "cell_type": "code",
   "execution_count": 4,
   "metadata": {},
   "outputs": [],
   "source": [
    "from sentencepiece import SentencePieceProcessor"
   ]
  },
  {
   "cell_type": "code",
   "execution_count": 5,
   "metadata": {},
   "outputs": [],
   "source": [
    "from data_loader import *\n",
    "from utils import *\n",
    "from model import *"
   ]
  },
  {
   "cell_type": "code",
   "execution_count": 6,
   "metadata": {},
   "outputs": [],
   "source": [
    "device = 'cuda:0'\n",
    "#device='cpu'\n",
    "device_type = 'cuda' if 'cuda' in device else 'cpu'\n",
    "\n"
   ]
  },
  {
   "cell_type": "markdown",
   "metadata": {},
   "source": [
    "# paths"
   ]
  },
  {
   "cell_type": "code",
   "execution_count": 7,
   "metadata": {},
   "outputs": [],
   "source": [
    "DATA_CACHE_DIR = './instruct_data_same_length/'"
   ]
  },
  {
   "cell_type": "code",
   "execution_count": 8,
   "metadata": {},
   "outputs": [],
   "source": [
    "out_dir = './fine_tuning_instruct_pad'\n",
    "os.makedirs(out_dir, exist_ok=True)"
   ]
  },
  {
   "cell_type": "code",
   "execution_count": 9,
   "metadata": {},
   "outputs": [],
   "source": [
    "pretrained_model_path = '/home/cindy/learning/karpathy/llms/llama2.c/stories15M.pt'\n",
    "pretrained_model_path = '/home/cindy/learning/karpathy/llms/llama2.c/stories110M.pt'"
   ]
  },
  {
   "cell_type": "markdown",
   "metadata": {},
   "source": [
    "# tokenizer"
   ]
  },
  {
   "cell_type": "code",
   "execution_count": 10,
   "metadata": {},
   "outputs": [],
   "source": [
    "tokenizer = SentencePieceProcessor('./tokenizer.model')"
   ]
  },
  {
   "cell_type": "code",
   "execution_count": 11,
   "metadata": {},
   "outputs": [],
   "source": [
    "vocab_size = tokenizer.vocab_size()"
   ]
  },
  {
   "cell_type": "markdown",
   "metadata": {},
   "source": [
    "# training"
   ]
  },
  {
   "cell_type": "markdown",
   "metadata": {},
   "source": [
    "#### mixed precision settings"
   ]
  },
  {
   "cell_type": "code",
   "execution_count": 12,
   "metadata": {},
   "outputs": [],
   "source": [
    "dtype = 'bfloat16'\n",
    "torch.manual_seed(1337)\n",
    "torch.backends.cuda.matmul.allow_tf32 = True  # allow tf32 on matmul\n",
    "torch.backends.cudnn.allow_tf32 = True  # allow tf32 on cudnn\n",
    "device_type = \"cuda\" if \"cuda\" in device else \"cpu\"  # for later use in torch.autocast\n",
    "# note: float16 data type will automatically use a GradScaler\n",
    "ptdtype = {\"float32\": torch.float32, \"bfloat16\": torch.bfloat16, \"float16\": torch.float16}[dtype]\n",
    "\n",
    "ctx = (\n",
    "    nullcontext()\n",
    "    if device_type == \"cpu\"\n",
    "    else torch.amp.autocast(device_type=device_type, dtype=ptdtype)\n",
    ")"
   ]
  },
  {
   "cell_type": "code",
   "execution_count": 13,
   "metadata": {},
   "outputs": [],
   "source": [
    "\n",
    "# initialize a GradScaler. If enabled=False scaler is a no-op\n",
    "scaler = torch.cuda.amp.GradScaler(enabled=(dtype == \"float16\"))\n"
   ]
  },
  {
   "cell_type": "markdown",
   "metadata": {},
   "source": [
    "#### model"
   ]
  },
  {
   "cell_type": "code",
   "execution_count": null,
   "metadata": {},
   "outputs": [],
   "source": []
  },
  {
   "cell_type": "code",
   "execution_count": 14,
   "metadata": {},
   "outputs": [
    {
     "data": {
      "text/plain": [
       "dict_keys(['model', 'model_args', 'iter_num', 'best_val_loss', 'config'])"
      ]
     },
     "execution_count": 14,
     "metadata": {},
     "output_type": "execute_result"
    }
   ],
   "source": [
    "checkpoint = torch.load(pretrained_model_path, map_location=device)\n",
    "checkpoint.keys()"
   ]
  },
  {
   "cell_type": "code",
   "execution_count": 15,
   "metadata": {},
   "outputs": [],
   "source": [
    "model_args = ModelArgs(**checkpoint['model_args'])\n",
    "model_args.max_seq_len = 350\n",
    "model = Transformer(model_args)"
   ]
  },
  {
   "cell_type": "code",
   "execution_count": 16,
   "metadata": {},
   "outputs": [
    {
     "data": {
      "text/plain": [
       "<All keys matched successfully>"
      ]
     },
     "execution_count": 16,
     "metadata": {},
     "output_type": "execute_result"
    }
   ],
   "source": [
    "state_dict = checkpoint['model']\n",
    "#unwanted_prefix = '_orig_mod.'\n",
    "unwanted_prefix = ''\n",
    "for k,v in list(state_dict.items()):\n",
    "    if k.startswith(unwanted_prefix):\n",
    "        state_dict[k[len(unwanted_prefix):]] = state_dict.pop(k)\n",
    "model.load_state_dict(state_dict, strict=False)"
   ]
  },
  {
   "cell_type": "markdown",
   "metadata": {},
   "source": [
    "##### freeze"
   ]
  },
  {
   "cell_type": "code",
   "execution_count": 17,
   "metadata": {},
   "outputs": [],
   "source": [
    "for p in model.parameters():\n",
    "    p.requires_grad = False"
   ]
  },
  {
   "cell_type": "code",
   "execution_count": 18,
   "metadata": {},
   "outputs": [
    {
     "name": "stdout",
     "output_type": "stream",
     "text": [
      "Number of parameters: 109529856\n"
     ]
    }
   ],
   "source": [
    "print(f'Number of parameters: {sum(p.nelement() for p in model.parameters())}')"
   ]
  },
  {
   "cell_type": "markdown",
   "metadata": {},
   "source": [
    "##### add lora"
   ]
  },
  {
   "cell_type": "code",
   "execution_count": 19,
   "metadata": {
    "scrolled": true
   },
   "outputs": [],
   "source": [
    "#lora_layer_types = [nn.Linear, nn.Embedding]\n",
    "lora_rank = 2\n",
    "lora_dropout = 0.1\n",
    "lora_alpha = 1.0\n",
    "lora_targets = ['wk', 'wq', 'wo', 'wv']\n",
    "apply_lora(\n",
    "    model, \n",
    "    targets=lora_targets,\n",
    "    rank=lora_rank,\n",
    "    dropout=lora_dropout,\n",
    "    alpha=lora_alpha,\n",
    "    verbose=False\n",
    ")\n",
    "#tie_lora_weights(model.output, model.tok_embeddings)"
   ]
  },
  {
   "cell_type": "code",
   "execution_count": 20,
   "metadata": {},
   "outputs": [
    {
     "name": "stdout",
     "output_type": "stream",
     "text": [
      "Number of parameters: 109824768\n"
     ]
    }
   ],
   "source": [
    "print(f'Number of parameters: {sum(p.nelement() for p in model.parameters())}')"
   ]
  },
  {
   "cell_type": "code",
   "execution_count": 21,
   "metadata": {},
   "outputs": [],
   "source": [
    "model.to(device);"
   ]
  },
  {
   "cell_type": "markdown",
   "metadata": {},
   "source": [
    "#### data"
   ]
  },
  {
   "cell_type": "code",
   "execution_count": 22,
   "metadata": {},
   "outputs": [
    {
     "name": "stdout",
     "output_type": "stream",
     "text": [
      "350\n"
     ]
    }
   ],
   "source": [
    "max_seq_len = model_args.max_seq_len\n",
    "print(max_seq_len)"
   ]
  },
  {
   "cell_type": "code",
   "execution_count": 23,
   "metadata": {},
   "outputs": [
    {
     "name": "stdout",
     "output_type": "stream",
     "text": [
      "Wanted batch_size: 512, gradient accumulation steps: 8, batch_size: 64\n"
     ]
    }
   ],
   "source": [
    "batch_size = 64\n",
    "\n",
    "wanted_batch_size = 4 * 128\n",
    "gradient_accumulation_steps = wanted_batch_size // batch_size\n",
    "\n",
    "print(f'Wanted batch_size: {wanted_batch_size}, gradient accumulation steps: {gradient_accumulation_steps}, batch_size: {batch_size}')"
   ]
  },
  {
   "cell_type": "code",
   "execution_count": 24,
   "metadata": {},
   "outputs": [],
   "source": [
    "iter_batches = partial(\n",
    "    iter_batch_func,\n",
    "    device=device,\n",
    "    batch_size=batch_size,\n",
    "    max_seq_len=max_seq_len,\n",
    "    data_cache_dir=DATA_CACHE_DIR\n",
    ")"
   ]
  },
  {
   "cell_type": "code",
   "execution_count": null,
   "metadata": {},
   "outputs": [],
   "source": []
  },
  {
   "cell_type": "markdown",
   "metadata": {},
   "source": [
    "#### optimizer"
   ]
  },
  {
   "cell_type": "code",
   "execution_count": 25,
   "metadata": {},
   "outputs": [
    {
     "name": "stdout",
     "output_type": "stream",
     "text": [
      "num decayed parameter tensors: 96, with 294,912 parameters\n",
      "num non-decayed parameter tensors: 0, with 0 parameters\n"
     ]
    }
   ],
   "source": [
    "learning_rate = 5e-4\n",
    "optimizer = get_optimizer(\n",
    "    model=model,\n",
    "    device_type='cuda',\n",
    "    learning_rate=learning_rate,  # max learning rate\n",
    "    weight_decay = 1e-1,\n",
    "    beta1 = 0.9,\n",
    "    beta2 = 0.95,\n",
    ")"
   ]
  },
  {
   "cell_type": "markdown",
   "metadata": {},
   "source": [
    "## training loop"
   ]
  },
  {
   "cell_type": "code",
   "execution_count": 26,
   "metadata": {},
   "outputs": [],
   "source": [
    "max_iters = 5000\n",
    "eval_iters = 100\n",
    "best_val_loss = 1e9\n",
    "grad_clip = 1"
   ]
  },
  {
   "cell_type": "code",
   "execution_count": 27,
   "metadata": {},
   "outputs": [],
   "source": [
    "iter_num = 0 "
   ]
  },
  {
   "cell_type": "code",
   "execution_count": 28,
   "metadata": {},
   "outputs": [
    {
     "data": {
      "text/plain": [
       "'./fine_tuning_instruct_pad'"
      ]
     },
     "execution_count": 28,
     "metadata": {},
     "output_type": "execute_result"
    }
   ],
   "source": [
    "out_dir"
   ]
  },
  {
   "cell_type": "code",
   "execution_count": 29,
   "metadata": {
    "scrolled": true
   },
   "outputs": [
    {
     "name": "stdout",
     "output_type": "stream",
     "text": [
      "step 0: lr 0.0, train loss 0.8439, val loss 0.8843\n",
      "step 100: lr 5e-05, train loss 0.8359, val loss 0.8762\n",
      "saving checkpoint to ./fine_tuning_instruct_pad\n",
      "Write a story. In the story, try touse the verb \"eat\", the noun \"cat\" and the adjective \"sad\". The story has the following features: the story should contain at least one dialogue. Possible story: For example, a three-year-old, who was playing in her garden, found an old shirt. The shirt was old and worn out, but she loved it anyway. She decided to keep it and wear it to school the next day.\n",
      "The next day, when she was about to wear the shirt, her mom asked her to take off the old shirt before going to school.\n",
      "Aly replied, \"But Mom, I want to keep my old shirt. It's my favorite.\"\n",
      "But her mom said, \"No, Amy. You can't keep it. It's too old and worn. Let's put it away and get you a new one.\"\n",
      "Aly was upset. She didn't want a new shirt. She wanted her old shirt. She started to cry. Her mom hugged her, and said, \"It's OK, Amy. You'll find a new shirt, and I'm sure you will look even better.\"\n",
      "Amy smiled and nodded. She was relieved, and went off to buy a new shirt. Once upon a time, there was a little girl named Lily. One day, her mommy took her to the market to buy some fruits and vegetables. At the market, Lily saw a cute puppy and she wanted to take him home. But her mommy said no, it\n",
      "step 200: lr 0.0001, train loss 0.8043, val loss 0.8443\n",
      "saving checkpoint to ./fine_tuning_instruct_pad\n",
      "Write a story. In the story, try touse the verb \"eat\", the noun \"cat\" and the adjective \"sad\". The story has the following features: the story should contain at least one dialogue. Possible story: Once upon a time, there was a big, heavy rock. The rock had a friend, a small bird. The bird liked to fly around and sing songs. One day, the bird saw the rock and said, \"Hi, rock! You are very heavy!\"\n",
      "The rock didn't say anything. The bird didn't know that the rock was not a word. The bird said, \"Come play with me!\" But the rock still didn't say anything. The bird thought, \"I will find out why you are not talking to me.\"\n",
      "The next day, the bird came back and saw that the rock was gone. Instead, there was a big bird. The big bird said, \"I am a big bird! I was hiding behind a tree.\" The small bird was very surprised. The bird looked at the sky and saw a big, pretty bird. The big bird said, \"I was hiding. I was scared to talk to you before. Let's be friends and talk together.\" The small bird was happy and they became best friends. From that day on, the two birds played and talked together, and the rock stayed in its place, a heavy rock. Once upon a time, there was a big, brown bear. He lived in a forest with his animal friends. One day, a hunter came to the forest. He had a big gun and wanted to shoot the animals. The bear and his friends were scared\n",
      "step 300: lr 0.00015, train loss 0.7378, val loss 0.7754\n",
      "saving checkpoint to ./fine_tuning_instruct_pad\n",
      "Write a story. In the story, try touse the verb \"eat\", the noun \"cat\" and the adjective \"sad\". The story has the following features: the story should contain at least one dialogue. Possible story: Once upon a time, there was an ordinary girl named Lily. She liked to draw pictures and make things with cardboard. One day, she made a cardboard cat. She played with it all day long.\n",
      "In the evening, Lily's mom called her for dinner. \"Lily, come to the table! Dinner is ready!\" Lily ran to her mom, leaving her cardboard cat behind. She sat down and ate her dinner. After dinner, she went back to her room to play with the cardboard cat again.\n",
      "While Lily was playing, her little brother, Tim, came into her room. He saw the cardboard cat and thought it looked like a real cat. Tim tried to play with it, but he accidentally stepped on it. \"Crack!\" The cardboard cat broke into two pieces. Tim started to cry. Lily heard the noise and went to her brother. She hugged him and said, \"It's okay, Tim. We can fix it together.\" They glued the pieces back and made the cardboard cat like new. From that day on, they always played together and made many more cardsboard creations. Mama was in the kitchen. She opened the fridge and took out a big, fat melon. She held up the melon and said, \"Look, I've got a melon!\"\n",
      "The little boy came running into the kitchen\n",
      "step 400: lr 0.0002, train loss 0.7054, val loss 0.7426\n",
      "saving checkpoint to ./fine_tuning_instruct_pad\n",
      "Write a story. In the story, try touse the verb \"eat\", the noun \"cat\" and the adjective \"sad\". The story has the following features: the story should contain at least one dialogue. Possible story:\n",
      "One day, ye was playing with a cushion. It was so fun to toss it back and forth. He was running around the room with it when he heard a noise.\n",
      "Suddenly, a voice came from the cushion. \"Help me!\" the voice said. \n",
      "Law was startled. He looked closely and the voice was coming from inside the cushion!\n",
      "\"Who said that?\", asked rat scared.\n",
      "\"It's me,\" said the voice. \"My name is Cream, and I'm stuck!\"\n",
      "Law knew he had to help Cream. He carefully pulled the cushion away and out popped a little mouse!\n",
      "\"Thank you!\" said Cream. \"But I'm lost and I can't find my way home.\"\n",
      "Law felt so bad for the scared little mouse. He decided to take Cream home and give him a safe place to stay.\n",
      "The end. Once upon a time, there was a little boy named Timmy. Timmy loved to play games with his friends. One day, Timmy and his friends were playing hide and seek. Timmy hid behind a big tree and waited for his friends to find him.\n",
      "Suddenly, Timmy saw a little bird sitting on a branch. The bird was whistling a beautiful tune. Timmy stopped playing to listen to the bird's wh\n",
      "step 500: lr 0.00025, train loss 0.6960, val loss 0.7330\n",
      "saving checkpoint to ./fine_tuning_instruct_pad\n",
      "Write a story. In the story, try touse the verb \"eat\", the noun \"cat\" and the adjective \"sad\". The story has the following features: the story should contain at least one dialogue. Possible story: Once upon a time, there was a cat named Tom. Tom was a foolish cat. He liked to play all day long. He would run and jump and climb trees. He did not think about what could happen if he was not careful.\n",
      "One day, Tom saw a big red ball in the yard. He thought it was a toy and wanted to play with it. He ran very fast and jumped on the ball. The ball rolled away and Tom was sad. He tried to get the ball back, but he could not. He was stuck in the yard.\n",
      "Tom's friend, a dog named Max, saw Tom and knew he needed help. Max was smart and knew that Tom did not think before he played. Max went to get Tom's owner. When the owner came, she saw Tom on the ball and laughed. She got the ball and gave it back to Tom. Tom learned to think before he played and never did foolish things again. Tom and Max became the best of friends, and they both lived happily ever after. Once upon a time, there was a small boy who loved to play with his toys. He had a small car that he loved to play with every day. One day, he accidentally broke the small car and it didn't move anymore. He was very sad and didn't know what to do.\n",
      "His mom saw his sad face and asked him what happened. He\n",
      "step 600: lr 0.0003, train loss 0.6889, val loss 0.7255\n",
      "saving checkpoint to ./fine_tuning_instruct_pad\n",
      "Write a story. In the story, try touse the verb \"eat\", the noun \"cat\" and the adjective \"sad\". The story has the following features: the story should contain at least one dialogue. Possible story: Once upon a time, in a small town, there was a girl named Lily. She had a cat named Fluffy. Lily loved to eat tasty food, but Fluffy did not like it. One day, Fluffy got sick because no one was taking care of him. Lily was very sad.\n",
      "Lily told her mom, \"I want to help Fluffy. Can we give him some tasty food and make sure he stays in bed?\" Her mom said, \"Yes, Lily, we can help Fluffy. But we must be gentle and kind when he is sick.\"\n",
      "Together, they gave Fluffy some tasty food and made a warm bed for him in the room. Every day, Lily would feed Fluffy and talk to him. She would say, \"Don't worry, Fluffy. We will take good care of you.\"\n",
      "One day, Lily and Fluffy went for a walk. They saw a boy who was sad and sick too. Lily said, \"I will give you some food to make you feel better.\" The boy ate the tasty food and started to feel better.\n",
      "From that day on, the three of them became good friends. They would play together and share the tasty food. Lily was happy to see that taking care of others was a good thing to do. And Fluffy\n",
      "step 700: lr 0.00035000000000000005, train loss 0.6842, val loss 0.7204\n",
      "saving checkpoint to ./fine_tuning_instruct_pad\n",
      "Write a story. In the story, try touse the verb \"eat\", the noun \"cat\" and the adjective \"sad\". The story has the following features: the story should contain at least one dialogue. Possible story: Once upon a time, there was a cat named Tom. Tom was deaf. He could not hear anything. But he was very good at playing with a ball. Tom would play with the ball all day and never get tired.\n",
      "One day, Tom was playing with his ball in the yard. He saw a big box. The box had a picture of an cat on it. Tom was curious. He wanted to see what was inside the box. He went close to the box and tried to open it.\n",
      "Just as Tom opened the box, he heard a loud sound. He jumped back in surprise. A dog jumped out of the box too! The dog said, \"Surprise! I am not a real cat. I am a dog named Max.\" Tom was surprised, but he was happy to meet a new friend. They played with the ball together and had lots of fun. Tom and Max became best friends, and Tom was glad he got to see the surprise in the box.equiv, Tom was not deaf anymore. He could hear his new friend Max's happy barks. And they lived happily ever after. Krekey was a big success in being Tom's best friend.нения, Tom, and Max played together every day and had lots of fun. å, Tom, and Max were very happy, and nothing could change that. recherche, Tom, and Max were the best of friends, and they had many more adventures\n",
      "step 800: lr 0.0004, train loss 0.6799, val loss 0.7159\n",
      "saving checkpoint to ./fine_tuning_instruct_pad\n",
      "Write a story. In the story, try touse the verb \"eat\", the noun \"cat\" and the adjective \"sad\". The story has the following features: the story should contain at least one dialogue. Possible story: Once upon a time, there was a cat named Max. Max was a sad cat because he always had to stay inside by the fire. One day, a little girl named Lily saw Max and wanted to play with him. \n",
      "\"Hi Max, why are you always in the fire?\" asked Lily.\n",
      "\"I don't know, I just have to stay here,\" replied Max.\n",
      "\"Oh, I understand. Maybe I can give you some food,\" suggested Lily.\n",
      "Lily went to her bag and grabbed a bowl of cat food. Max was so happy and grateful that he started purring loudly. From that day on, Max and Lily became best friends and Max wasn't sad anymore. He would stay by the fire with Lily every day and play with her. The end. Once upon a time, there was a big red truck. The truck liked to go fast. He had a lot of fun with his friends. They would play together all day long.\n",
      "One day, the truck wanted to go even faster. He tried to go faster and faster. But then, he saw his friend, the car, was in his way. The car was trying to prevent the truck from going too fast. The truck was scared.\n",
      "The truck decided to slow down and not be so loud and fast. The car was happy and said, \"Thank you for being\n",
      "step 900: lr 0.00045, train loss 0.6768, val loss 0.7125\n",
      "saving checkpoint to ./fine_tuning_instruct_pad\n",
      "Write a story. In the story, try touse the verb \"eat\", the noun \"cat\" and the adjective \"sad\". The story has the following features: the story should contain at least one dialogue. Possible story: Once upon a time, there was a little cat named Mittens. Mittens was very tired and wanted to sleep. She went to her favorite spot on the couch and closed her eyes. But suddenly, she heard a loud meow. It was her friend, a little kitten named Fluffy.\n",
      "Fluffy came to visit Mittens, but she looked very sick. \"What's wrong, Fluffy?\" asked Mittens. \"I don't feel healthy,\" replied Fluffy. \"I need some food and water, but I don't know how to get it.\"\n",
      "Mittens wanted to help Fluffy, so she went to the kitchen to get some food and water. When she came back, she saw that Fluffy was lying on the floor, not moving at all. Mittens was confused and scared. She didn't know what to do.\n",
      "Suddenly, Fluffy jumped up and started to meow again. Mittens realized that she had just eaten too much and needed to rest. She felt bad for her friend and promised to take care of her better. From that day on, Mittens made sure to only eat a little bit and take care of herself so she wouldn't be sick again. The end..*;\n",
      "Moral of the story: It's important to take care of yourself so you don't get sick. And always make\n",
      "step 1000: lr 0.0005, train loss 0.6744, val loss 0.7100\n",
      "saving checkpoint to ./fine_tuning_instruct_pad\n",
      "Write a story. In the story, try touse the verb \"eat\", the noun \"cat\" and the adjective \"sad\". The story has the following features: the story should contain at least one dialogue. Possible story: Once upon a time, there was a cat named Tom. Tom was very sour. He did not like to play with the other cats. One day, Tom saw a mouse. He wanted to catch the mouse and eat it. \n",
      "The mouse said, \"Please don't eat me, Tom. I have a surprise for you.\" Tom stopped chasing the mouse and asked, \"What is the surprise?\" The mouse replied, \"If you promise not to eat me, I will bring you something very special.\" \n",
      "Tom was curious and followed the mouse. The mouse led Tom to a big tree where there was a bird's nest. \"Here is your surprise,\" said the bird. Tom was so happy because he loved birds. He ate the bird and thanked the mouse for the surprise. From that day on, Tom was no longer sour. He played with the other cats and even made friends with the mouse. Tom learned that sometimes good things can happen when you least expect them. terminated, he had to be ready to surrender to a new opportunity.стем means to let go of your grumpy ways. terminated, Once upon a time, there was a little girl named Lily. She had a big bed with a soft rug in her room. One night, Lily heard a loud noise outside her window. She got scared and called out to her mommy.\n",
      "Mommy came running and asked, \"\n",
      "step 1100: lr 0.000499229333433282, train loss 0.6727, val loss 0.7083\n",
      "saving checkpoint to ./fine_tuning_instruct_pad\n",
      "Write a story. In the story, try touse the verb \"eat\", the noun \"cat\" and the adjective \"sad\". The story has the following features: the story should contain at least one dialogue. Possible story: Once upon a time there was a mommy cat who wanted to eat. She meandered through the woods, looking for food. She came upon a sack and was very surprised. She thought to herself, \"This can be a nice lunch.\"\n",
      "Momma Cat opened the sack and found lots of tasty things. She was about to take a bite when she heard a voice.\n",
      "\"Hey, who are you?\" said the voice.\n",
      "It was a little mouse. The mouse asked if he could have his lunch. Momma Cat was a kind cat, so she said yes.\n",
      "\"You can have one of my food. I am very hungry,\" said the mouse, who was very happy.\n",
      "He thanked Momma Cat and started eating. But when he was done Momma Cat was still hungry. The mouse felt bad and he offered to let Momma Cat have something to eat.\n",
      "Momma Cat was very surprised. \"I am very sorry, I am very hungry,\" she said.\n",
      "But the mouse was kind and said, \"It's ok, I have another lunch for you.\"\n",
      "Momma Cat was so happy that she hugged the little mouse. She enjoyed the lunch, and the two were happy friends from then on. aufats of love, and kindness, that can make anyone feel better, even the dead ones\n",
      "step 1200: lr 0.0004969220851487844, train loss 0.6710, val loss 0.7066\n",
      "saving checkpoint to ./fine_tuning_instruct_pad\n",
      "Write a story. In the story, try touse the verb \"eat\", the noun \"cat\" and the adjective \"sad\". The story has the following features: the story should contain at least one dialogue. Possible story: Once upon a time, a little girl named Lily was playing with her toys. She saw a cat outside and went to pet it. But the cat scratched her and she got a little sore.\n",
      "Her mom came and asked, \"What happened, Lily?\"\n",
      "\"I tried to pet the cat, but it scratched me,\" Lily said with a frown.\n",
      "Her mom said, \"Oh no, that's bad news. Let me wipe it off and put a band-aid on it.\"\n",
      "Lily felt better and continued playing with her toys, but she was more careful to make sure any animals didn't scratch her. She didn't want another bad ending. orths can be scary, but it's okay to ask for help when we need it. And sometimes, we have a harsh stomachache, but it will feel better soon. The end.ℕ Once upon a time, in a wild place, there lived a small cat named Kitty. Kitty loved to play with her sack all day long. One day, she saw a big cat named Tom. Tom had a new sack with him. Kitty thought it looked fun.\n",
      "Kitty and Tom played together, but then they saw a big dog named Max. Max wanted to play too, but he wanted to use Tom's sack as a ball. Tom did not\n",
      "step 1300: lr 0.0004930924800994192, train loss 0.6694, val loss 0.7049\n",
      "saving checkpoint to ./fine_tuning_instruct_pad\n",
      "Write a story. In the story, try touse the verb \"eat\", the noun \"cat\" and the adjective \"sad\". The story has the following features: the story should contain at least one dialogue. Possible story: One day, a little girl named Lucy had a cat. The cat was sick and poor. Lucy felt sad for the cat. She asked her mommy, \"Can we feed the cat?\"\n",
      "Mommy said, \"Yes, we can give the cat some milk and food.\"\n",
      "Lucy got the food and poured it into a bowl. The cat drank the food and felt better. Lucy said, \"Look, the cat is happy now!\"\n",
      "The cat meowed and cuddled with Lucy. From that day on, the cat came to visit Lucy every day. Lucy loved her cat and was happy that she could help it when it was poor. decemberets are a small thing that need love and care.NUcles can make a big difference in someone's life. palabmen are very important! propicles can feed cats and make them happy. One day, a little girl found a pen on the ground. She picked it up and looked at it. It was a very nice pen. She liked the pen so much that she took it home with her.\n",
      "In her room, she tried to draw with the pen, but it didn't do anything. The little girl thought the pen was spoiled. She felt sad. She wanted to draw a big, pretty picture, like her mommy and daddy.\n",
      "Then, she had an idea. She rubbed the pen on the wall, and to her surprise\n",
      "step 1400: lr 0.0004877641290737884, train loss 0.6681, val loss 0.7036\n",
      "saving checkpoint to ./fine_tuning_instruct_pad\n",
      "Write a story. In the story, try touse the verb \"eat\", the noun \"cat\" and the adjective \"sad\". The story has the following features: the story should contain at least one dialogue. Possible story: Once upon a time, there was a little girl named Lily. She loved eating cat food, especially chicken. One day, Lily's mom made her a plate of chicken for lunch. But Lily didn't like it, so she threw the plate on the ground. \n",
      "\"Lily, that's not nice,\" said her mom. \"You made your mom sad.\"\n",
      "Lily felt bad, so she apologized. \n",
      "Later that day, Lily's dad came home with a surprise. He brought her a new toy cat cat. Lily was so happy and hugged it tight. \n",
      "But when she tried to play with it, she realized that the cat was spoiled. It was covered in dirt and had a bad smell. \n",
      "\"Lily, you need to wash the cat,\" said her dad. \n",
      "Lily didn't want to, but she knew it was the right thing to do. She washed the cat and put it on her bed to rest. She promised to never throw her food again. \n",
      "The end.mlungors like to tear things apart, but this one was a lesson learned. Once upon a time, in a charming little town, there lived a kind boy named Tim. Tim loved to play outside with his friends. One sunny day, they were playing near a big tree.\n",
      "step 1500: lr 0.0004809698831278217, train loss 0.6670, val loss 0.7023\n",
      "saving checkpoint to ./fine_tuning_instruct_pad\n",
      "Write a story. In the story, try touse the verb \"eat\", the noun \"cat\" and the adjective \"sad\". The story has the following features: the story should contain at least one dialogue. Possible story: Once upon a time there was a sad cat who lived in a small house. He was very unhappy and always felt like he was stuck inside.\n",
      "One day, the cat was feeling especially sad, so he decided to take a walk to make himself feel better. As he was walking, the cat noticed a small paw-shaped hole in the ground. He went up to look inside and found a little rabbit! The cat said \"hello\" but the rabbit did not reply.\n",
      "The cat was feeling very sad again and started to walk away but then the rabbit spoke to him. The rabbit said \"Why are you so sad? I think you are lonely\". The cat smiled and said \"It's okay, I'm not alone. I have a friend at home who is just a bit like you!\" \n",
      "The little rabbit was very happy to hear this. He jumped out of the hole and said \"Can I come and visit?\". The cat was glad to have a new friend.\n",
      "The cat and the rabbit became the best of friends. They spent many days playing and having fun, and the sad cat was happy for the rest of the day. \n",
      "They were always happy and never felt alone. The cat and rabbit were best friends forever! One day, a boy named Tom went to the park. He saw a big, heavy tree. Tom wanted to climb the tree. He put\n",
      "step 1600: lr 0.00047275163104709196, train loss 0.6659, val loss 0.7013\n",
      "saving checkpoint to ./fine_tuning_instruct_pad\n",
      "Write a story. In the story, try touse the verb \"eat\", the noun \"cat\" and the adjective \"sad\". The story has the following features: the story should contain at least one dialogue. Possible story: Once upon a time, there was a boy named Timmy. Timmy loved animals and wanted to go on a safari to see them. His mom said, \"That's a great idea, Timmy! Let's go on a safari tomorrow.\"\n",
      "The next day, Timmy and his mom went on the safari. They saw lions, zebras, and giraffes. Timmy was happy and excited. But after a while, he got tired and wanted to go home.\n",
      "His mom said, \"Timmy, do you want to eat something yummy before we leave?\" Timmy nodded his head and said, \"Yes, please!\" They found a restaurant and Timmy got his favorite food. While they were eating, Timmy saw a lion and said, \"Look, Mommy! A lion!\" His mom replied, \"Yes, Timmy. It's a lion.\" Timmy finished his food and said, \"That was yummy, Mommy!\" They had a great safari and went home happy. Once upon a time, there was a little bunny named Benny. Benny loved to eat radishes. One day, Benny went to the garden to pick some radishes. But when he got there, he saw a big, mean rabbit eating all the radishes! \n",
      "Benny was very upset. He wanted\n",
      "step 1700: lr 0.00046316004108852305, train loss 0.6649, val loss 0.7006\n",
      "saving checkpoint to ./fine_tuning_instruct_pad\n",
      "Write a story. In the story, try touse the verb \"eat\", the noun \"cat\" and the adjective \"sad\". The story has the following features: the story should contain at least one dialogue. Possible story: One day, a cat with a dull tail went for a walk. The cat was very hungry. It saw a big, red apple on the ground. \"Yum, I want to eat that apple,\" said the cat. It tried to bite the apple, but its mouth was too short.\n",
      "A little bird saw the cat and wanted to help. \"I can help you,\" said the bird. \"Jump on the apple and I will push it to you.\" The cat jumped on the apple and the bird pushed it. The apple rolled and rolled, but then it stopped.\n",
      "The cat tried to bite the apple again, but it could not. \"Why is I not biting the apple?\" asked the cat. The bird replied, \"Maybe the apple is too hard for you to bite.\" The cat thought for a moment, then said, \"I can't bite it with my dull tail. Maybe we can find a softer apple for you to bite.\" So, the cat and the bird went on a new adventure together to find a better apple to bite.orten, they were happy friends.lpors, Once upon a time, there was a little girl named Lily. She loved to play outside in the park with her friends. One day, she saw a big, brown dog running around. She thought it was crazy because it was moving so fast and barking loudly\n",
      "step 1800: lr 0.0004522542485937369, train loss 0.6639, val loss 0.7000\n",
      "saving checkpoint to ./fine_tuning_instruct_pad\n",
      "Write a story. In the story, try touse the verb \"eat\", the noun \"cat\" and the adjective \"sad\". The story has the following features: the story should contain at least one dialogue. Possible story: Once upon a time, there was a little boy named Timmy. Timmy loved to eat candy, especially sour ones. He would eat as much candy as he could, even though his mom told him it's not healthy. Timmy didn't listen and kept eating sour candy every day.\n",
      "One day, Timmy's mom gave him a new candy. It was wrapped in shiny paper and had a big red bow on top. Timmy opened it and took a bite. It was so delicious that he started to eat it right away. But the sour candy made his tummy hurt, and he wished he had listened to his mom.\n",
      "Later that day, Timmy went to the park and saw his friend Johnny. \"Hey, Timmy, do you want to try something yummy?\" Johnny asked. Timmy nodded. Johnny took out a bag of candy and offered Timmy a piece. Timmy was hesitant at first, but he tried it anyway. It was delicious! He was so happy that he forgot about his sore tummy.\n",
      "When Timmy got home, his mom asked him how his day was. \"It was good,\" Timmy said. \"Joke oranges, played with Johnny, and ate something sour. But the candy is yummy!\" His mom smiled and said, \"That's because you\n",
      "step 1900: lr 0.0004401014914000078, train loss 0.6631, val loss 0.6991\n",
      "saving checkpoint to ./fine_tuning_instruct_pad\n",
      "Write a story. In the story, try touse the verb \"eat\", the noun \"cat\" and the adjective \"sad\". The story has the following features: the story should contain at least one dialogue. Possible story: Once upon a time, there was a little boy named Timmy. Timmy loved to feed his cat, Whiskers. Whiskers was a very hungry cat and always meowed loudly when Timmy came into the room with his food. \n",
      "One day, Timmy's friend came over to play. Timmy was so excited to show his friend his cat. \"Look at my cat, Whiskers! His name is Whiskers. He's a big, tough cat!\" exclaimed Timmy. \n",
      "Grandpa came into the room and said, \"Timmy, it's time for your friend to leave now.\" Timmy was sad because he didn't want his friend to go. But then, Whiskers looked at Timmy and meowed. Timmy smiled and said, \"Whiskers, you're not a hungry cat. You're my best friend!\" \n",
      "Even though Timmy's friend had to leave, Timmy knew that Whiskers would always be there for him to feed him when he came back. And Whiskers would be a tough cat, no matter what. The end. períodos of friendship and love.elinesies can always be counted on, just like Timmy knew he did. orths are important, just like his friend Whiskers. fåies are the best things in the world. And with those words, we all\n",
      "step 2000: lr 0.00042677669529663686, train loss 0.6627, val loss 0.6985\n",
      "saving checkpoint to ./fine_tuning_instruct_pad\n",
      "Write a story. In the story, try touse the verb \"eat\", the noun \"cat\" and the adjective \"sad\". The story has the following features: the story should contain at least one dialogue. Possible story: Once upon a time, there was a little cat named Whiskers. Whiskers loved to play hide and seek with his friends. One day, Whiskers was hiding behind a bush when he suddenly fell asleep. He was so tired that he didn't even wake up when his friends came to find him. \n",
      "After a while, Whiskers woke up and saw that his friends were gone. He looked around but everything looked normal. Just then, he heard a meowing sound coming from a nearby tree. \"Hello, Whiskers!\" said a kitten named Mittens. \"I'm stuck up here and I don't know how to get down.\" \n",
      "Whiskers knew just what to do. He climbed up the tree and helped Mittens down. Mittens was so grateful that she gave Whiskers a big hug. \"Thank you so much, Whiskers!\" she said. \"You saved my life!\" From that day on, Whiskers and Mittens were the best of friends and played hide and seek every day. And Whiskers never fell asleep while playing because he was always ready to jump out and surprise him with his friends. The end. BEGIN! preg Once upon a time, there was a little boy named Timmy. Timmy was very hungry and wanted to eat some yummy food. He went to his mom and said, \"Mommy\n",
      "step 2100: lr 0.0004123620120825459, train loss 0.6622, val loss 0.6980\n",
      "saving checkpoint to ./fine_tuning_instruct_pad\n",
      "Write a story. In the story, try touse the verb \"eat\", the noun \"cat\" and the adjective \"sad\". The story has the following features: the story should contain at least one dialogue. Possible story: Once upon a time, there was a little girl named Lily. She had a cat named Tom. Tom loved to eat fish. One day, Tom ate so much fish that he became very big and round. \n",
      "Lily saw Tom and said, \"Oh no, Tom! You ate too much fish! You look so big and fat now.\" \n",
      "Tom meowed back, \"But I love fish, Lily. It's my favorite meal.\" \n",
      "Lily felt sad and said, \"I'm glad you're still my cat, but don't eat too much next time or you'll get sick.\" \n",
      "Tom promised he wouldn't eat too much and they both cuddled up together. From that day on, Tom ate just enough fish and wasn't as fat anymore. Lily and Tom were happy and played together every day. The end. preg end. policies. One day, a little boy named Tim and his dog, Spot, went for a walk. They saw a big, round ball in the park. Tim wanted to play with the ball, but it was near a tree and had a big crack on it. Spot wanted to eat the crack, so he tried to get the ball.\n",
      "Tim said, \"Spot, no! We need to be careful.\" But Spot didn't listen. He tried to get the ball, but the crack\n",
      "step 2200: lr 0.0003969463130731183, train loss 0.6618, val loss 0.6974\n",
      "saving checkpoint to ./fine_tuning_instruct_pad\n",
      "Write a story. In the story, try touse the verb \"eat\", the noun \"cat\" and the adjective \"sad\". The story has the following features: the story should contain at least one dialogue. Possible story: Once upon a time, there was a little cat named Whiskers. Whiskers was very hungry and went to the kitchen to find some food. But there was no food in the house. Whiskers was sad and hungry.\n",
      "Then, Whiskers saw a bird outside. The bird was singing a beautiful song. Whiskers wanted to be as pretty as the bird, so he tried to eat some grass, but it didn't taste good. \"I'm still hungry and I want to be pretty,\" said Whiskers.\n",
      "Just then, Whiskers heard a voice. \"Don't be sad, little cat. I can help you.\" It was his friend, a little girl. \"What do you want me to do?\" asked Whiskers. \"I can tie a bow around your neck and make you look pretty,\" said the little girl. Whiskers was happy and let the little girl tie a bow around his neck. From that day on, Whiskers was no longer hungry and he felt very pretty. The end..*;Y – Once upon a time, there was a little dog named Spot. Spot loved to play with his ball. One day, Spot went to the park with his best friend, a little girl named Lily.\n",
      "At the park, Lily threw the ball for Spot to catch. Spot ran fast to get the ball, but he\n",
      "step 2300: lr 0.0003806246411789872, train loss 0.6613, val loss 0.6972\n",
      "saving checkpoint to ./fine_tuning_instruct_pad\n",
      "Write a story. In the story, try touse the verb \"eat\", the noun \"cat\" and the adjective \"sad\". The story has the following features: the story should contain at least one dialogue. Possible story: Once upon a time, there was a little girl named Lily. She was very sad because she missed her cat, Mittens. One day, her mom said they could go on a trip to find Mittens. Lily was happy and excited!\n",
      "They got in the car and drove for a long time. When they got to their destination, they looked and looked but couldn't find Mittens. Lily started to cry and her mom hugged her tight. \"Don't worry, Lily. We'll keep looking,\" her mom said.\n",
      "After a few hours, they finally found Mittens playing with a toy. Lily was so happy and hugged her mom. \"Thank you for helping me find Mittens,\" Lily said. \"Of course, we will always keep looking for him,\" her mom replied with a smile. And they drove back home, with Lily holding Mittens tight and feeling happy once again. The end.连 Once upon a time, there was a big, brown bear. He had a furry coat that kept him warm in the winter. One day, he went to a store to buy a new pair of shoes. But they were very expensive and he didn't have enough money.\n",
      "Then, he saw a little rabbit with a very high heel. The bear asked the rabbit if he could buy the shoes for him. The rabbit said yes and gave\n",
      "step 2400: lr 0.00036349762493488667, train loss 0.6611, val loss 0.6968\n",
      "saving checkpoint to ./fine_tuning_instruct_pad\n",
      "Write a story. In the story, try touse the verb \"eat\", the noun \"cat\" and the adjective \"sad\". The story has the following features: the story should contain at least one dialogue. Possible story: Once upon a time, there was a little boy named Timmy. Timmy loved cats, especially kittens. One day, Timmy's mom took him to the park where there was a cat sitting by the pond. Timmy was so excited to see a cat up close.\n",
      "\"Can I pet the cat, Mommy?\" Timmy asked.\n",
      "\"Yes, but be careful,\" his mom replied.\n",
      "Timmy slowly approached the cat and began petting it. The cat purred and rubbed against Timmy's leg. Timmy's mouth watered with excitement.\n",
      "\"Mommy, can we take the cat home now?\" Timmy asked with a sad face.\n",
      "His mom smiled and said, \"No, Timmy. The cat needs to stay in the park with its owner.\"\n",
      "Timmy nodded, still looking a little bit sad. But he knew he could always come back to see the cat again. And with that, Timmy and his mom left the park, with Timmy feeling excited about the experience of petting a cat one last time.料ing, he couldn't wait to tell his friends about the cute and fluffy little cat he had just met. Once upon a time, there was a little dog named Max. Max loved to play outside in the sun. One day, Max was playing near a hedge. The hedge was big and green\n",
      "step 2500: lr 0.0003456708580912725, train loss 0.6609, val loss 0.6963\n",
      "saving checkpoint to ./fine_tuning_instruct_pad\n",
      "Write a story. In the story, try touse the verb \"eat\", the noun \"cat\" and the adjective \"sad\". The story has the following features: the story should contain at least one dialogue. Possible story: Once upon a time, there was a little boy named Timmy. Timmy loved to eat candy all day long. His mom would always tell him to eat healthy food, but he would just keep eating candy. \n",
      "One day, Timmy's mom bought a new cat kit for him. Timmy was glad and couldn't wait to play with it. But when he opened the cage, he found out that the kit had candy in it. \n",
      "Timmy's mom said, \"Timmy, you can't eat candy all day. It's not good for your tummy.\" \n",
      "Timmy replied, \"But Mommy, the kit includes candy too! I love candy!\" \n",
      "Timmy's mom sighed and said, \"Okay, Timmy. But only a little bit each day, so you can't eat too much candy.\" \n",
      "From that day on, Timmy only ate a little bit of candy every day and his tummy felt better. He was glad that the kit included candy and his tummy was healthy again. The end.̍ Once upon a time there was a girl named Daisy. Daisy was a very happy and curious girl who always wanted to learn. One day, Daisy went for a walk in the park. \n",
      "As Daisy looked around\n",
      "step 2600: lr 0.00032725424859373687, train loss 0.6605, val loss 0.6961\n",
      "saving checkpoint to ./fine_tuning_instruct_pad\n",
      "Write a story. In the story, try touse the verb \"eat\", the noun \"cat\" and the adjective \"sad\". The story has the following features: the story should contain at least one dialogue. Possible story: One day, a boy named Tim went to the store with his mom. They saw a cat sitting outside the store. Tim was sad to see the cat sitting there. He wanted to help the cat, so he went to the store owner.\n",
      "\"Can you help the cat? It's sad,\" Tim said to the store owner. The store owner nodded and went to get food for the cat. The cat saw the food and came to Tim and his mom. They gave the cat food and the cat was happy.\n",
      "Tim and his mom went home feeling happy that they helped the cat. Tim was no longer sad because he made a new friend with the cat. They played with the cat and had a fun day together. The cat was now their pet and they loved it very much.tags to say goodbye to the cat, they said: \"We will never forget you!\" And the cat went home with Tim and his mom. They all lived happily ever after. Once upon a time, there was a big, fat bear named Bob. Bob loved to eat honey from the beehives in the forest. One day, Bob heard some jazz music playing in the distance. He wanted to go and dance to the music, so he rushed through the forest to reach the source. \n",
      "As Bob danced to the music, he saw a group of animals watching him. They were amazed at how well the bear could dance to the jazz\n",
      "step 2700: lr 0.0003083613409639764, train loss 0.6601, val loss 0.6956\n",
      "saving checkpoint to ./fine_tuning_instruct_pad\n",
      "Write a story. In the story, try touse the verb \"eat\", the noun \"cat\" and the adjective \"sad\". The story has the following features: the story should contain at least one dialogue. Possible story: Once upon a time, there was a cat named Fluffy. Fluffy was very hungry and wanted to eat some fish. So, Fluffy went to the store to buy some fish. When Fluffy got to the store, she saw a big fish that made her very happy. But, the fish was too much for Fluffy to eat. She felt sad and walked away from the store.\n",
      "As Fluffy walked down the street, she saw a little girl with her cat. The cat looked sad too. Fluffy asked the little girl why she was sad. The little girl said, \"My cat ate the last fish and now I'm very hungry.\" Fluffy felt bad and said, \"Don't be sad, I have some fish here. You can eat them with your cat.\" The little girl smiled and thanked Fluffy.\n",
      "Fluffy and her cat ate the fish together and both felt very happy. They walked back to the store and bought more fish. When they got home, they shared the fish with all the other cats in the neighborhood. Fluffy felt happy to share and the little girl was happy to have a full cat and a friendly cat. They all lived happily ever after. The end. presidente Once upon a time, there was a little girl named Lily. She loved to play with her toys in her room. One day, her\n",
      "step 2800: lr 0.00028910861626005774, train loss 0.6599, val loss 0.6955\n",
      "saving checkpoint to ./fine_tuning_instruct_pad\n",
      "Write a story. In the story, try touse the verb \"eat\", the noun \"cat\" and the adjective \"sad\". The story has the following features: the story should contain at least one dialogue. Possible story: Once upon a time, there was a poor cat. The cat was very hungry and had no food to eat. The cat meowed loudly, \"Meow! I am so hungry!\" \n",
      "Just then, a little boy heard the cat's meows. He went outside and saw the poor cat. The boy said, \"Oh, poor cat! Why do you look so sad?\" \n",
      "The cat replied, \"I am very hungry and have no food to eat.\" \n",
      "The little boy felt bad for the poor cat and said, \"I have some food for you! Come with me!\" \n",
      "The boy took the cat inside his house and gave the cat some yummy food to eat. The cat was very happy and said, \"Thank you, little boy! You are my kind friend.\" \n",
      "From that day on, the cat stayed with the little boy and they became best friends. The end. данным, the poor cat found a good friend in the little boy. orth, Once upon a time, there was a big bear named Benny. Benny lived in a big forest with his friends, the birds and the squirrels. One day, a little birdie named Lily got lost in the forest. Benny saw Lily and asked her what happened. \n",
      "Lily said, \"I saw a big bear and I got scared. Can you help me find my way back home?\"\n",
      "step 2900: lr 0.00026961477393196127, train loss 0.6597, val loss 0.6952\n",
      "saving checkpoint to ./fine_tuning_instruct_pad\n",
      "Write a story. In the story, try touse the verb \"eat\", the noun \"cat\" and the adjective \"sad\". The story has the following features: the story should contain at least one dialogue. Possible story: Once upon a time, there was a little girl named Lily. She loved to eat candy and cake all day long, but her mom always said she needed to eat healthy food too. \n",
      "One day, Lily went to visit her grandma who had a beautiful cat named Mittens. Mittens was very sick and had to go to the vet. Mittens' owner was also the vet and she said they needed to feed Mittens some yummy cat food. \n",
      "The vet said Mittens was feeling sad, so Lily's mom said she would take Mittens to work with the vet's helper to make her feel better. At first, Mittens was sad and scared, but then she started to feel better when the vet's helper gave her some healthy food to eat. \n",
      "After a few weeks, Mittens was feeling much better and was back to her happy self. Lily was happy too because she loved to eat candy and cake and play with Mittens. She said to her mom, \"I'm so happy Mittens is better now!\" Her mom smiled and said, \"Me too, Lily. Clean eating healthy food is good for our bodies.\" And they both lived happily ever after. The end. lí. differenti Once upon a time, there was a little girl named Lily. She loved going to the theater with her\n",
      "step 3000: lr 0.00025, train loss 0.6595, val loss 0.6951\n",
      "saving checkpoint to ./fine_tuning_instruct_pad\n",
      "Write a story. In the story, try touse the verb \"eat\", the noun \"cat\" and the adjective \"sad\". The story has the following features: the story should contain at least one dialogue. Possible story: Once upon a time, there was a little girl named Lily. One day, she was playing with her pink kitten, but she got hungry. \"I want to eat now!\" she said. \n",
      "Her mom brought out a plate of food and gave it to Lily. But when she took a bite, she noticed the cat didn't look very happy. \"What's wrong with the cat?\" she asked her mom. \n",
      "\"I don't know,\" her mom replied. \"Let's check on her.\" When they looked in the cat's bowl, they saw that the kitten had chewed up the cat food! Lily was surprised and a little sad, but she knew they needed to teach the cat better. From that day on, Lily made sure to give the kitten her own food to eat. And the kitten learned to be a good kitten and not chew up other's food. The end. synding was unexpected, but it made Lily and the kitten very happy. The end. данным. \n",
      "\"I don't think the kitten will be sad anymore if it gets hungrier,\" Lily said. And her mom agreed, \"Yes, the kitten needs to be happy and healthy just like you do!\" Once upon a time, there was a little cat. The cat had a big tail. One day, the cat went to\n",
      "step 3100: lr 0.0002303852260680388, train loss 0.6593, val loss 0.6949\n",
      "saving checkpoint to ./fine_tuning_instruct_pad\n",
      "Write a story. In the story, try touse the verb \"eat\", the noun \"cat\" and the adjective \"sad\". The story has the following features: the story should contain at least one dialogue. Possible story: Once upon a time, there was a boy named Timmy. Timmy loved to eat candy and cake all day long. His mom told him that he needed to eat healthy food from now on, but Timmy never listened.\n",
      "One day, Timmy saw a cat in his backyard. The cat was eating a big bowl of food. Timmy thought the cat was eating from his bowl. He went outside to take a closer look.\n",
      "\"Meow,\" said the cat. \"Why are you looking at me?\"\n",
      "\"I want to eat you!\" Timmy said.\n",
      "\"No, no, no!\" the cat cried. \"I am not a cat. I am a vegetarian. You should eat your vegetables. They are good for you.\"\n",
      "Timmy was surprised. He thought vegetables were not good for him. He felt bad for being mean to the cat. From that day on, Timmy started eating his vegetables and he felt much better. He learned that it's important to eat healthy and not just what you want to eat.⅓ of vegetables can make you feel great! And the cat went away, happy to have found a new place to eat vegetables. The end. Minnesotay, serious, and wise. Once upon a time, a little girl named Lily went to visit her grandma. On the way, she saw a big, red bus passing\n",
      "step 3200: lr 0.00021089138373994224, train loss 0.6592, val loss 0.6946\n",
      "saving checkpoint to ./fine_tuning_instruct_pad\n",
      "Write a story. In the story, try touse the verb \"eat\", the noun \"cat\" and the adjective \"sad\". The story has the following features: the story should contain at least one dialogue. Possible story: Once upon a time, there was a cat named Mittens. Mittens was a happy cat who loved to play with yarn and chase mice. But one day, Mittens got a boo-boo on his paw. He was sad and couldn't play anymore.\n",
      "Mittens' owner, a little girl named Lily, noticed that Mittens was not feeling well. She asked Mittens, \"What's wrong, kitty?\" Mittens meowed and showed Lily his paw. Lily saw a little cut and said, \"Don't worry, kitty. I'll put a band-aid on your boo-boo.\" \n",
      "Mittens felt better and started to purr. Lily said, \"Do you want to eat some food, Mittens?\" Mittens meowed again and licked his lips. Lily gave him some cat food and Mittens ate it all up. He was happy and full again. The end.icional!ätte Tom and Sue are kids who like to play outside. They have a big yard with a swing, a slide and a sandbox. They have fun every day, but today they see dark clouds in the sky. They hear loud noises like drums and bells. It is going to rain soon!\n",
      "\"Let's go inside, kids!\" Mom calls from the door. \"It is\n",
      "step 3300: lr 0.00019163865903602372, train loss 0.6590, val loss 0.6944\n",
      "saving checkpoint to ./fine_tuning_instruct_pad\n",
      "Write a story. In the story, try touse the verb \"eat\", the noun \"cat\" and the adjective \"sad\". The story has the following features: the story should contain at least one dialogue. Possible story: Once upon a time, there was a little girl named Lily. One day, Lily found a cute kitty on the street. The kitty was very sad and hungry. Lily gave the kitty some food to eat.\n",
      "The kitty was so happy and started to play with Lily. But then, the kitty got lost. Lily was sad too because she wanted the kitty to come back home. She looked around for the kitty but couldn't find it.\n",
      "Suddenly, Lily heard a meowing sound coming from a house. The kitty was inside the house! But there were many other cats who were also lost and hungry. Lily felt sad for them all. She decided to help them and bring them some food to eat. She took them to the kitty's owner and they were all happy again. In the end, Lily felt happy too because she helped many cats.[^, the end.jör, Lily. One day, a little boy named Tim had a bad dream, called a nightmare. In the nightmare, a big monster was trying to grab him. Tim was very scared. He woke up and ran to his mommy and daddy's room. They hugged him tight and told him it was just a dream.\n",
      "The next day, Tim\n",
      "step 3400: lr 0.00017274575140626317, train loss 0.6589, val loss 0.6941\n",
      "saving checkpoint to ./fine_tuning_instruct_pad\n",
      "Write a story. In the story, try touse the verb \"eat\", the noun \"cat\" and the adjective \"sad\". The story has the following features: the story should contain at least one dialogue. Possible story: Once upon a time, there was a cat. The cat was very hungry and wanted to eat something. It went outside to look for food.\n",
      "Suddenly, the cat saw a little girl. The cat said, \"Meow, meow! I am so hungry. Can you give me some food?\"\n",
      "The little girl said, \"Sorry, cat. I don't have any food to give you.\"\n",
      "The cat walked away, still very hungry. It walked and walked, but it couldn't find any food. It was so sad and hungry that it fell asleep and never woke up again. The little girl felt bad and wished she could help the cat, but she couldn't do anything. The end. Géographie Once upon a time, there was a boy named Timmy. Timmy loved to eat candy all day long. His mom told him that candy was bad for his stomach, but he didn't listen. One day, Timmy ate too much candy and his stomach became very thick. \n",
      "Timmy's mom was sad because she didn't want him to be sick. She decided to take him to the doctor. At the doctor's office, Timmy saw other kids from his school. He was happy to see them and they started to play together.\n",
      "After the doctor checked Timmy, he said he needed to stop\n",
      "step 3500: lr 0.00015432914190872756, train loss 0.6588, val loss 0.6943\n",
      "step 3600: lr 0.00013650237506511331, train loss 0.6586, val loss 0.6940\n",
      "saving checkpoint to ./fine_tuning_instruct_pad\n",
      "Write a story. In the story, try touse the verb \"eat\", the noun \"cat\" and the adjective \"sad\". The story has the following features: the story should contain at least one dialogue. Possible story: Once upon a time, there was a cat named Mittens. Mittens loved to eat fish. He would eat fish every day for breakfast. One day, Mittens' owner brought home a new cat named Fluffy. Fluffy was very sad because she didn't have any fish to eat. \n",
      "Mittens felt bad for Fluffy and wanted to help her. He went to his owner and said, \"Fluffy looks sad. Can we give her some fish to eat?\" Mittens' owner agreed and they gave Fluffy some fish to eat. Fluffy was very happy and thanked Mittens. \n",
      "From that day on, Mittens and Fluffy became best friends. They would play together and eat fish together. Mittens was no longer sad because he had a new friend to share his fish with. And Fluffy was no longer sad. They lived happily ever after. The end. данным, the end. Once upon a time, there were two friends named Jack and Jill. They loved to play together, especially with their bouncy balls. One day, they were playing in the park when they found a big, bouncy object. It was a trampoline, and they were so excited to try it out.\n",
      "As they were bouncing, Jack accidentally bounced on a tree root and fell down. Jill helped him up, but Jack's kne\n",
      "step 3700: lr 0.00011937535882101281, train loss 0.6585, val loss 0.6939\n",
      "saving checkpoint to ./fine_tuning_instruct_pad\n",
      "Write a story. In the story, try touse the verb \"eat\", the noun \"cat\" and the adjective \"sad\". The story has the following features: the story should contain at least one dialogue. Possible story: Once upon a time, a little girl named Lily was very hungry. She went to a restaurant with her mom and dad to eat. The waiter gave them a menu with pictures of food on it. Lily looked at the menu and chose her favorite food, pizza.\n",
      "When the pizza arrived, Lily took a big bite and smiled. \"This is yummy!\" she said. But then she started to feel sad. \"Why are you sad, Lily?\" asked her mom.\n",
      "Lily replied, \"I want a toy.\" But her mom said, \"Not today. We only have food to eat.\" Lily was still feeling sad, so she decided to go home and eat something else. When they got home, Lily's dad brought her a surprise. It was a toy! Lily was so happy that she started to jump up and down. \"Thank you, thank you!\" she said. \n",
      "After playing with her new toy for a while, Lily's hunger went down. She went back to the restaurant and asked for another pizza. When she ate it, she felt full and happy again. From that day on, Lily knew that when she felt sad, she could always go to the restaurant to eat something delicious. The end. orth, \"I finished my pizza\". orth Once upon a time, there was a little girl named L\n",
      "step 3800: lr 0.00010305368692688174, train loss 0.6584, val loss 0.6938\n",
      "saving checkpoint to ./fine_tuning_instruct_pad\n",
      "Write a story. In the story, try touse the verb \"eat\", the noun \"cat\" and the adjective \"sad\". The story has the following features: the story should contain at least one dialogue. Possible story: Once upon a time, in a small town, there was a little girl named Lily who loved cats. She had a cat named Whiskers who was always hungry. One day, Lily's mom said, \"Lily, we need to feed Whiskers. He's so hungry.\" \n",
      "Lily replied, \"Okay, let's give him some food.\" So, Lily and her mom went to the store to buy cat food. They saw a screw on the ground and Lily picked it up. \"Look, Mommy! I found a screw. It's shiny,\" she said. \n",
      "Her mom smiled and said, \"That's a small screw, it's not important.\" They bought cat food and went back home. Whiskers was so happy and ate all the food. Lily was happy too, because she knew the cat was no longer hungry. From that day on, Lily made sure to feed Whiskers whenever she saw a screw on the ground. And Whiskers was never sad again. The end.clo! Once upon a time there was a little boy named Tom. Tom always loved going to the store to buy candy. One day, Tom asked his Mom if he could go buy some candy at the store.\n",
      "Mom said yes and Tom went. He found many delicious candy in\n",
      "step 3900: lr 8.763798791745412e-05, train loss 0.6584, val loss 0.6936\n",
      "saving checkpoint to ./fine_tuning_instruct_pad\n",
      "Write a story. In the story, try touse the verb \"eat\", the noun \"cat\" and the adjective \"sad\". The story has the following features: the story should contain at least one dialogue. Possible story: Once upon a time, there was a cat named Tom. Tom was a very sad cat. He didn't have any friends to play with. One day, Tom went for a walk and met a little mouse named Jerry. Jerry asked, \"Why are you so sad, Tom?\" Tom replied, \"I don't have any friends to play with. I'm all alone.\" Jerry felt sad for Tom and said, \"I can be your friend. Let's go play together!\" Tom was so happy to have a friend and they played together all day long. \n",
      "Later that day, Tom's owner called him and said, \"Tom, it's time to eat!\" Tom meowed happily and ran back home. He ate his dinner and felt much better. He was no longer sad or alone. Tom and Jerry became the best of friends and did everything together. They played and had fun every day. And Tom was no longer a sad cat with a sad look on his face. He was a happy cat with a new friend. The end.ℕ.ovo Once upon a time, there was a big, happy family who loved to eat cereal for breakfast. Every morning, they would pour milk on top of their cereal and enjoy it together. But one day, the mom noticed that they were running out of milk. \n",
      "She said to her children, \"We need to go to the store to buy\n",
      "step 4000: lr 7.322330470336314e-05, train loss 0.6584, val loss 0.6936\n",
      "step 4100: lr 5.989850859999227e-05, train loss 0.6583, val loss 0.6935\n",
      "saving checkpoint to ./fine_tuning_instruct_pad\n",
      "Write a story. In the story, try touse the verb \"eat\", the noun \"cat\" and the adjective \"sad\". The story has the following features: the story should contain at least one dialogue. Possible story: Once upon a time, there was a little girl named Lily. She loved cats and had one named Mittens. One day, Lily's mom came home with a new kitten named Fluffy. Lily was very happy and played with her new kitten all day.\n",
      "Later that day, Lily's mom made a delicious meal for dinner. Lily's dad and her brother sat down to eat. Mittens jumped onto their plates and started to eat too. Lily said, \"No, Mittens, this is for kittens.\" Mittens meowed and looked sad.\n",
      "But Lily's mom had an idea. She poured some milk in a little bowl and put it in the middle of the plate. Mittens came over and started to eat from the bowl. Lily said, \"Look, Mittens is eating with your food!\" Her mom and dad laughed and Lily was happy that everyone was having fun together, even Mittens. The end.PTovy food can conflict, but it's always better when everyone shares.其y cat, Spot the cat, was a big part of their family! Once upon a time, there was a little girl named Lily. One day, Lily's mommy took her to a yoga class where she met a new teacher. The teacher was very nice and taught them lots\n",
      "step 4200: lr 4.7745751406263163e-05, train loss 0.6582, val loss 0.6934\n",
      "saving checkpoint to ./fine_tuning_instruct_pad\n",
      "Write a story. In the story, try touse the verb \"eat\", the noun \"cat\" and the adjective \"sad\". The story has the following features: the story should contain at least one dialogue. Possible story: Once upon a time, there was a little boy named Timmy. Timmy loved cats, especially kittens. One day, Timmy went to the pet store with his mom. At the store, Timmy saw a kitten. The kitten looked so cute and fluffy, Timmy wanted to take it home with him.\n",
      "Timmy's mom asked him, \"Do you want to buy that kitten or not?\" Timmy thought for a moment and said, \"I want to buy the kitten. I love cats so much!\" Timmy's mom looked at him with a sad face and said, \"I don't know if we can take care of the kitten. We don't have enough money to take care of a cat.\"\n",
      "Timmy felt sad too. He didn't want to leave the kitten at the store. Then, a nice lady overheard their conversation and asked if they wanted to buy the kitten. Timmy's mom smiled and said yes. Timmy was so happy! He hugged the kitten and said, \"I love you, little kitten!\" From that day on, Timmy and the kitten became the best of friends. Gün3. They never felt sad when they were together. Once upon a time, there was a boy named Tom. Tom had a pet dog named Spot. Spot was very hungry. Tom\n",
      "step 4300: lr 3.6839958911476953e-05, train loss 0.6582, val loss 0.6934\n",
      "saving checkpoint to ./fine_tuning_instruct_pad\n",
      "Write a story. In the story, try touse the verb \"eat\", the noun \"cat\" and the adjective \"sad\". The story has the following features: the story should contain at least one dialogue. Possible story: Once upon a time, there was a little girl who loved cats. She had a cat named Fluffy who she loved to feed. One day, Fluffy got sick and had to go to the vet. The vet said Fluffy was too sick to go home. The little girl was sad and cried a lot. \n",
      "Her mom asked what was wrong and the little girl said, \"Poor Fluffy. She can't eat anymore.\" Her mom hugged her and said, \"Don't worry, we'll take good care of her.\" \n",
      "After a few days, Fluffy got better and was able to go home. The little girl was so happy to see her cat again. She fed Fluffy and played with her. Fluffy was happy too and purred loudly as the little girl petted her soft fur. The little girl said, \"I'm so glad you're feeling better, Fluffy. I'll always take care of you.\" Her mom smiled and said, \"I love you both, Fluffy and I love you.\" And they all lived happily ever after. Lomb Once upon a time, there was a little girl named Lily. Lily had a toy bear named Mr. Snuggles. Mr. Snuggles was Lily's best friend. They played together all day.\n",
      "One day, Lily\n",
      "step 4400: lr 2.7248368952908055e-05, train loss 0.6581, val loss 0.6934\n",
      "step 4500: lr 1.9030116872178316e-05, train loss 0.6581, val loss 0.6934\n",
      "step 4600: lr 1.2235870926211617e-05, train loss 0.6581, val loss 0.6934\n",
      "saving checkpoint to ./fine_tuning_instruct_pad\n",
      "Write a story. In the story, try touse the verb \"eat\", the noun \"cat\" and the adjective \"sad\". The story has the following features: the story should contain at least one dialogue. Possible story: Once upon a time, a little girl named Lily was playing with her cat, Fluffy. Fluffy was a very sad cat because he had no milk to drink. \n",
      "Lily asked her mom, \"Mommy, why is Fluffy sad?\" \n",
      "Her mom replied, \"Fluffy is hungry. He needs some milk to eat.\" \n",
      "Lily said, \"I can help! I will feed him.\" \n",
      "Lily gave Fluffy some milk and he was very happy. Fluffy purred and Lily smiled. She was happy too. The end.连, Lily's mom! Once upon a time, there was a little girl named Lily. She loved to eat cereal in her bowl every morning. Her bowl was her favorite, because it was pink and had a picture of a unicorn on it.\n",
      "One day, Lily went to school and her teacher said they were going to have a special activity. They would all wear their smartest clothes and do a dance together. Lily wanted to win the competition because she was very good at dancing.\n",
      "During the dance, Lily noticed that her teacher kept looking at her in the mirror. She thought to herself, \"Why is she looking at my smart clothes?\" But she didn't say anything.\n",
      "After the dance, Lily went back to class and saw her teacher\n",
      "step 4700: lr 6.907519900580861e-06, train loss 0.6580, val loss 0.6934\n",
      "saving checkpoint to ./fine_tuning_instruct_pad\n",
      "Write a story. In the story, try touse the verb \"eat\", the noun \"cat\" and the adjective \"sad\". The story has the following features: the story should contain at least one dialogue. Possible story: Once upon a time, there was a cat named Fluffy. Fluffy was very sad because he was hungry and had no food to eat. He meowed sadly and walked around the house looking for something to eat.\n",
      "A little girl saw Fluffy and asked, \"What's wrong, Fluffy? Why are you sad?\" Fluffy meowed sadly and said, \"I am hungry and have no food to eat.\" The little girl felt sorry for Fluffy and gave him a piece of cheese. Fluffy was happy and ate the cheese quickly.\n",
      "After eating, Fluffy felt full and happy again. The little girl noticed that Fluffy looked sad again and asked, \"What's wrong, Fluffy?\" Fluffy meowed and said, \"I'm happy now because someone is giving me food to eat.\" The little girl smiled and said, \"I'm glad I could help you, Fluffy.\" From that day on, Fluffy and the little girl were friends and Fluffy never went hungry again. pobla to this day, Fluffy remembers the little girl who gave him food and made him happy. Tom and Anna were playing in the garden. They liked to look at the flowers and the bugs. They saw a butterfly with blue and red wings. It was very pretty.\n",
      "\"Look, Tom,\n",
      "step 4800: lr 3.077914851215585e-06, train loss 0.6580, val loss 0.6934\n",
      "step 4900: lr 7.70666566718009e-07, train loss 0.6580, val loss 0.6934\n",
      "saving checkpoint to ./fine_tuning_instruct_pad\n",
      "Write a story. In the story, try touse the verb \"eat\", the noun \"cat\" and the adjective \"sad\". The story has the following features: the story should contain at least one dialogue. Possible story: Once upon a time, there was a cat named Mittens. Mittens was a happy cat because she had a lot of toys to play with. One day, Mittens saw a bird outside her window. The bird looked sad and hungry, so Mittens decided to share her sandwich with the bird.\n",
      "Mittens: \"Hi birdie, do you want some sandwich?\"\n",
      "Bird: \"Yes, please. I am very hungry.\"\n",
      "Mittens gave the bird some sandwich and the bird felt happy. Suddenly, Mittens realized that she was hungry too. She had a big piece of cheese that she did not want to eat anymore.\n",
      "Mittens: \"Here birdie, do you want some cheese?\"\n",
      "Bird: \"Yes, please. Thank you, Mittens.\"\n",
      "Mittens and the bird ate the cheese together and became good friends. They played together all day and had a lot of fun. Mittens was not sad anymore because she had found a new friend. The end. erhalten Once upon a time, a boy named Jack was playing in the park when he saw something very special. He ran over to take a closer look! It was a big, green apple.\n",
      "Jack said, \"Wow! I want to take this apple home to show my mommy.\"\n",
      "He reached out to grab the apple, but it suddenly disappeared. Jack was\n",
      "step 5000: lr 0.0, train loss 0.6580, val loss 0.6934\n",
      "saving checkpoint to ./fine_tuning_instruct_pad\n",
      "Write a story. In the story, try touse the verb \"eat\", the noun \"cat\" and the adjective \"sad\". The story has the following features: the story should contain at least one dialogue. Possible story: Once upon a time, there was a cat named Mittens. Mittens was a grumpy cat who didn't like to play with the other cats. One day, Mittens met a little girl named Lily. \n",
      "Lily said, \"Hi Mittens, do you want to play?\"\n",
      "Mittens said, \"No, I just want to sit here.\"\n",
      "Lily said, \"Okay, that's okay. Maybe we can play later?\"\n",
      "Mittens said, \"No, I just want to sit here.\"\n",
      "Lily went away and Mittens continued to sit. Soon, Mittens saw a mouse run by. Mittens forgot all about feeling grumpy and started to chase the mouse. Mittens had so much fun playing and chasing the mouse that Mittens didn't even notice the time passing. \n",
      "When it was time for Lily to come back, Mittens said, \"I had so much fun playing with you, can we play again?\"\n",
      "Lily replied, \"Of course, Mittens. I'm glad we're friends.\"\n",
      "Mittens and Lily played together every day and Mittens was never grumpy again. The end. pobla, it's always better to play with a friend. Once upon a time, there was a little girl named Lily. She loved to play outside in the sunshine. One day,\n"
     ]
    }
   ],
   "source": [
    "\n",
    "\n",
    "train_batch_iter = iter_batches(split='train')\n",
    "X, Y = next(train_batch_iter)\n",
    "\n",
    "while True:\n",
    "    lr = get_lr(iter_num, max_iters=max_iters) \n",
    "    for param_group in optimizer.param_groups:\n",
    "        param_group[\"lr\"] = lr\n",
    "\n",
    "    if iter_num % eval_iters == 0 :\n",
    "        losses = estimate_loss(\n",
    "            model=model,\n",
    "            iter_batches=iter_batches,\n",
    "            eval_iters=eval_iters,\n",
    "            ctx=ctx\n",
    "        )\n",
    "        print(f\"step {iter_num}: lr {lr}, train loss {losses['train']:.4f}, val loss {losses['val']:.4f}\")\n",
    "        if losses[\"val\"] < best_val_loss:\n",
    "            best_val_loss = losses[\"val\"]\n",
    "            if iter_num > 0:\n",
    "                save_checkpoint(\n",
    "                    model=model,\n",
    "                    optimizer=optimizer,\n",
    "                    model_args=model_args,\n",
    "                    iter_num=iter_num,\n",
    "                    out_dir=out_dir\n",
    "                )\n",
    "                _, paragraph = generate_paragraph(\n",
    "                    model, \n",
    "                    prompt='Write a story. In the story, try to use the verb \"eat\", the noun \"cat\" and the adjective \"sad\". The story has the following features: the story should contain at least one dialogue. Possible story:',\n",
    "                    tokenizer=tokenizer,\n",
    "                    device='cuda:0',\n",
    "                    max_new_tokens=300\n",
    "                )\n",
    "                print(paragraph)\n",
    "\n",
    "    for micro_step in range(gradient_accumulation_steps):\n",
    "        with ctx:\n",
    "            logits = model(X)\n",
    "            loss = compute_loss(logits, Y)\n",
    "            loss = loss / gradient_accumulation_steps\n",
    "        X, Y = next(train_batch_iter)\n",
    "        scaler.scale(loss).backward()\n",
    "     \n",
    "    if grad_clip != 0.0:\n",
    "        scaler.unscale_(optimizer)\n",
    "        torch.nn.utils.clip_grad_norm_(model.parameters(), grad_clip)\n",
    "    scaler.step(optimizer)\n",
    "    scaler.update()\n",
    "    optimizer.zero_grad(set_to_none=True)\n",
    "\n",
    "   \n",
    "    iter_num += 1\n",
    "    if iter_num > max_iters:\n",
    "        break\n"
   ]
  },
  {
   "cell_type": "code",
   "execution_count": 30,
   "metadata": {},
   "outputs": [
    {
     "data": {
      "text/plain": [
       "'./fine_tuning_instruct_pad'"
      ]
     },
     "execution_count": 30,
     "metadata": {},
     "output_type": "execute_result"
    }
   ],
   "source": [
    "out_dir"
   ]
  },
  {
   "cell_type": "code",
   "execution_count": null,
   "metadata": {},
   "outputs": [],
   "source": []
  },
  {
   "cell_type": "code",
   "execution_count": null,
   "metadata": {},
   "outputs": [],
   "source": []
  },
  {
   "cell_type": "code",
   "execution_count": null,
   "metadata": {},
   "outputs": [],
   "source": []
  },
  {
   "cell_type": "markdown",
   "metadata": {},
   "source": [
    "## "
   ]
  }
 ],
 "metadata": {
  "kernelspec": {
   "display_name": "Python [conda env:llama2karpathy]",
   "language": "python",
   "name": "conda-env-llama2karpathy-py"
  },
  "language_info": {
   "codemirror_mode": {
    "name": "ipython",
    "version": 3
   },
   "file_extension": ".py",
   "mimetype": "text/x-python",
   "name": "python",
   "nbconvert_exporter": "python",
   "pygments_lexer": "ipython3",
   "version": "3.9.17"
  }
 },
 "nbformat": 4,
 "nbformat_minor": 4
}
